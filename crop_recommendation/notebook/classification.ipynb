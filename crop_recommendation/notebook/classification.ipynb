{
 "cells": [
  {
   "cell_type": "code",
   "execution_count": 1,
   "id": "8ef21724",
   "metadata": {
    "scrolled": true
   },
   "outputs": [],
   "source": [
    "import pandas as pd\n",
    "import numpy as np\n",
    "import pycaret.clustering as pc\n",
    "import matplotlib.pyplot as plt\n",
    "import pycaret.classification as cp\n",
    "%matplotlib inline\n",
    "import seaborn as sns\n",
    "plt.style.use('fivethirtyeight')\n",
    "import warnings\n",
    "warnings.filterwarnings('ignore')"
   ]
  },
  {
   "cell_type": "code",
   "execution_count": 2,
   "id": "90a43b98",
   "metadata": {},
   "outputs": [],
   "source": [
    "data = pd.read_csv('../dataset/FinalData.csv')"
   ]
  },
  {
   "cell_type": "code",
   "execution_count": 3,
   "id": "c091dd6d",
   "metadata": {},
   "outputs": [
    {
     "data": {
      "text/html": [
       "<div>\n",
       "<style scoped>\n",
       "    .dataframe tbody tr th:only-of-type {\n",
       "        vertical-align: middle;\n",
       "    }\n",
       "\n",
       "    .dataframe tbody tr th {\n",
       "        vertical-align: top;\n",
       "    }\n",
       "\n",
       "    .dataframe thead th {\n",
       "        text-align: right;\n",
       "    }\n",
       "</style>\n",
       "<table border=\"1\" class=\"dataframe\">\n",
       "  <thead>\n",
       "    <tr style=\"text-align: right;\">\n",
       "      <th></th>\n",
       "      <th>N</th>\n",
       "      <th>P</th>\n",
       "      <th>K</th>\n",
       "      <th>temperature</th>\n",
       "      <th>humidity</th>\n",
       "      <th>ph</th>\n",
       "      <th>rainfall</th>\n",
       "      <th>label</th>\n",
       "    </tr>\n",
       "  </thead>\n",
       "  <tbody>\n",
       "    <tr>\n",
       "      <th>0</th>\n",
       "      <td>70</td>\n",
       "      <td>59</td>\n",
       "      <td>43</td>\n",
       "      <td>20.879744</td>\n",
       "      <td>82.002744</td>\n",
       "      <td>6.502985</td>\n",
       "      <td>202.935536</td>\n",
       "      <td>rice</td>\n",
       "    </tr>\n",
       "    <tr>\n",
       "      <th>1</th>\n",
       "      <td>82</td>\n",
       "      <td>59</td>\n",
       "      <td>38</td>\n",
       "      <td>21.770462</td>\n",
       "      <td>80.319644</td>\n",
       "      <td>7.038096</td>\n",
       "      <td>226.655537</td>\n",
       "      <td>rice</td>\n",
       "    </tr>\n",
       "    <tr>\n",
       "      <th>2</th>\n",
       "      <td>75</td>\n",
       "      <td>39</td>\n",
       "      <td>41</td>\n",
       "      <td>23.004459</td>\n",
       "      <td>82.320763</td>\n",
       "      <td>7.840207</td>\n",
       "      <td>263.964248</td>\n",
       "      <td>rice</td>\n",
       "    </tr>\n",
       "    <tr>\n",
       "      <th>3</th>\n",
       "      <td>74</td>\n",
       "      <td>37</td>\n",
       "      <td>43</td>\n",
       "      <td>26.491096</td>\n",
       "      <td>80.158363</td>\n",
       "      <td>6.980401</td>\n",
       "      <td>242.864034</td>\n",
       "      <td>rice</td>\n",
       "    </tr>\n",
       "    <tr>\n",
       "      <th>4</th>\n",
       "      <td>74</td>\n",
       "      <td>50</td>\n",
       "      <td>40</td>\n",
       "      <td>20.130175</td>\n",
       "      <td>81.604873</td>\n",
       "      <td>7.628473</td>\n",
       "      <td>262.717340</td>\n",
       "      <td>rice</td>\n",
       "    </tr>\n",
       "  </tbody>\n",
       "</table>\n",
       "</div>"
      ],
      "text/plain": [
       "    N   P   K  temperature   humidity        ph    rainfall label\n",
       "0  70  59  43    20.879744  82.002744  6.502985  202.935536  rice\n",
       "1  82  59  38    21.770462  80.319644  7.038096  226.655537  rice\n",
       "2  75  39  41    23.004459  82.320763  7.840207  263.964248  rice\n",
       "3  74  37  43    26.491096  80.158363  6.980401  242.864034  rice\n",
       "4  74  50  40    20.130175  81.604873  7.628473  262.717340  rice"
      ]
     },
     "execution_count": 3,
     "metadata": {},
     "output_type": "execute_result"
    }
   ],
   "source": [
    "data.head()"
   ]
  },
  {
   "cell_type": "code",
   "execution_count": 4,
   "id": "305155a2",
   "metadata": {},
   "outputs": [
    {
     "data": {
      "text/plain": [
       "N              0\n",
       "P              0\n",
       "K              0\n",
       "temperature    0\n",
       "humidity       0\n",
       "ph             0\n",
       "rainfall       0\n",
       "label          0\n",
       "dtype: int64"
      ]
     },
     "execution_count": 4,
     "metadata": {},
     "output_type": "execute_result"
    }
   ],
   "source": [
    "# lets check if there is any missing value present in the dataset\n",
    "data.isna().sum()"
   ]
  },
  {
   "cell_type": "code",
   "execution_count": 5,
   "id": "9bf0138f",
   "metadata": {},
   "outputs": [
    {
     "name": "stdout",
     "output_type": "stream",
     "text": [
      "<class 'pandas.core.frame.DataFrame'>\n",
      "RangeIndex: 1500 entries, 0 to 1499\n",
      "Data columns (total 8 columns):\n",
      " #   Column       Non-Null Count  Dtype  \n",
      "---  ------       --------------  -----  \n",
      " 0   N            1500 non-null   int64  \n",
      " 1   P            1500 non-null   int64  \n",
      " 2   K            1500 non-null   int64  \n",
      " 3   temperature  1500 non-null   float64\n",
      " 4   humidity     1500 non-null   float64\n",
      " 5   ph           1500 non-null   float64\n",
      " 6   rainfall     1500 non-null   float64\n",
      " 7   label        1500 non-null   object \n",
      "dtypes: float64(4), int64(3), object(1)\n",
      "memory usage: 93.9+ KB\n"
     ]
    }
   ],
   "source": [
    "#Checking the basic information of dataset like count, datatypes of columns (categorical or numerical)\n",
    "data.info()"
   ]
  },
  {
   "cell_type": "code",
   "execution_count": 6,
   "id": "c9ada650",
   "metadata": {},
   "outputs": [],
   "source": [
    "#All columns are numerical except label which is categorical"
   ]
  },
  {
   "cell_type": "code",
   "execution_count": 7,
   "id": "f91b41ca",
   "metadata": {
    "scrolled": true
   },
   "outputs": [
    {
     "data": {
      "text/html": [
       "<div>\n",
       "<style scoped>\n",
       "    .dataframe tbody tr th:only-of-type {\n",
       "        vertical-align: middle;\n",
       "    }\n",
       "\n",
       "    .dataframe tbody tr th {\n",
       "        vertical-align: top;\n",
       "    }\n",
       "\n",
       "    .dataframe thead th {\n",
       "        text-align: right;\n",
       "    }\n",
       "</style>\n",
       "<table border=\"1\" class=\"dataframe\">\n",
       "  <thead>\n",
       "    <tr style=\"text-align: right;\">\n",
       "      <th></th>\n",
       "      <th>N</th>\n",
       "      <th>P</th>\n",
       "      <th>K</th>\n",
       "      <th>temperature</th>\n",
       "      <th>humidity</th>\n",
       "      <th>ph</th>\n",
       "      <th>rainfall</th>\n",
       "      <th>label</th>\n",
       "    </tr>\n",
       "  </thead>\n",
       "  <tbody>\n",
       "    <tr>\n",
       "      <th>0</th>\n",
       "      <td>70</td>\n",
       "      <td>59</td>\n",
       "      <td>43</td>\n",
       "      <td>20.879744</td>\n",
       "      <td>82.002744</td>\n",
       "      <td>6.502985</td>\n",
       "      <td>202.935536</td>\n",
       "      <td>rice</td>\n",
       "    </tr>\n",
       "    <tr>\n",
       "      <th>1</th>\n",
       "      <td>82</td>\n",
       "      <td>59</td>\n",
       "      <td>38</td>\n",
       "      <td>21.770462</td>\n",
       "      <td>80.319644</td>\n",
       "      <td>7.038096</td>\n",
       "      <td>226.655537</td>\n",
       "      <td>rice</td>\n",
       "    </tr>\n",
       "    <tr>\n",
       "      <th>2</th>\n",
       "      <td>75</td>\n",
       "      <td>39</td>\n",
       "      <td>41</td>\n",
       "      <td>23.004459</td>\n",
       "      <td>82.320763</td>\n",
       "      <td>7.840207</td>\n",
       "      <td>263.964248</td>\n",
       "      <td>rice</td>\n",
       "    </tr>\n",
       "    <tr>\n",
       "      <th>3</th>\n",
       "      <td>74</td>\n",
       "      <td>37</td>\n",
       "      <td>43</td>\n",
       "      <td>26.491096</td>\n",
       "      <td>80.158363</td>\n",
       "      <td>6.980401</td>\n",
       "      <td>242.864034</td>\n",
       "      <td>rice</td>\n",
       "    </tr>\n",
       "    <tr>\n",
       "      <th>4</th>\n",
       "      <td>74</td>\n",
       "      <td>50</td>\n",
       "      <td>40</td>\n",
       "      <td>20.130175</td>\n",
       "      <td>81.604873</td>\n",
       "      <td>7.628473</td>\n",
       "      <td>262.717340</td>\n",
       "      <td>rice</td>\n",
       "    </tr>\n",
       "    <tr>\n",
       "      <th>...</th>\n",
       "      <td>...</td>\n",
       "      <td>...</td>\n",
       "      <td>...</td>\n",
       "      <td>...</td>\n",
       "      <td>...</td>\n",
       "      <td>...</td>\n",
       "      <td>...</td>\n",
       "      <td>...</td>\n",
       "    </tr>\n",
       "    <tr>\n",
       "      <th>1495</th>\n",
       "      <td>116</td>\n",
       "      <td>39</td>\n",
       "      <td>30</td>\n",
       "      <td>26.774637</td>\n",
       "      <td>66.413269</td>\n",
       "      <td>6.780064</td>\n",
       "      <td>177.774507</td>\n",
       "      <td>coffee</td>\n",
       "    </tr>\n",
       "    <tr>\n",
       "      <th>1496</th>\n",
       "      <td>107</td>\n",
       "      <td>15</td>\n",
       "      <td>28</td>\n",
       "      <td>27.417112</td>\n",
       "      <td>56.636362</td>\n",
       "      <td>6.086922</td>\n",
       "      <td>127.924610</td>\n",
       "      <td>coffee</td>\n",
       "    </tr>\n",
       "    <tr>\n",
       "      <th>1497</th>\n",
       "      <td>105</td>\n",
       "      <td>18</td>\n",
       "      <td>27</td>\n",
       "      <td>24.131797</td>\n",
       "      <td>67.225123</td>\n",
       "      <td>6.362608</td>\n",
       "      <td>173.322839</td>\n",
       "      <td>coffee</td>\n",
       "    </tr>\n",
       "    <tr>\n",
       "      <th>1498</th>\n",
       "      <td>113</td>\n",
       "      <td>33</td>\n",
       "      <td>26</td>\n",
       "      <td>26.272418</td>\n",
       "      <td>52.127394</td>\n",
       "      <td>6.758793</td>\n",
       "      <td>127.175293</td>\n",
       "      <td>coffee</td>\n",
       "    </tr>\n",
       "    <tr>\n",
       "      <th>1499</th>\n",
       "      <td>119</td>\n",
       "      <td>23</td>\n",
       "      <td>32</td>\n",
       "      <td>23.603016</td>\n",
       "      <td>60.396475</td>\n",
       "      <td>6.779833</td>\n",
       "      <td>140.937041</td>\n",
       "      <td>coffee</td>\n",
       "    </tr>\n",
       "  </tbody>\n",
       "</table>\n",
       "<p>1500 rows × 8 columns</p>\n",
       "</div>"
      ],
      "text/plain": [
       "        N   P   K  temperature   humidity        ph    rainfall   label\n",
       "0      70  59  43    20.879744  82.002744  6.502985  202.935536    rice\n",
       "1      82  59  38    21.770462  80.319644  7.038096  226.655537    rice\n",
       "2      75  39  41    23.004459  82.320763  7.840207  263.964248    rice\n",
       "3      74  37  43    26.491096  80.158363  6.980401  242.864034    rice\n",
       "4      74  50  40    20.130175  81.604873  7.628473  262.717340    rice\n",
       "...   ...  ..  ..          ...        ...       ...         ...     ...\n",
       "1495  116  39  30    26.774637  66.413269  6.780064  177.774507  coffee\n",
       "1496  107  15  28    27.417112  56.636362  6.086922  127.924610  coffee\n",
       "1497  105  18  27    24.131797  67.225123  6.362608  173.322839  coffee\n",
       "1498  113  33  26    26.272418  52.127394  6.758793  127.175293  coffee\n",
       "1499  119  23  32    23.603016  60.396475  6.779833  140.937041  coffee\n",
       "\n",
       "[1500 rows x 8 columns]"
      ]
     },
     "execution_count": 7,
     "metadata": {},
     "output_type": "execute_result"
    }
   ],
   "source": [
    "#Removing duplicate rows if any\n",
    "data.drop_duplicates()"
   ]
  },
  {
   "cell_type": "code",
   "execution_count": 8,
   "id": "9eb301db",
   "metadata": {
    "scrolled": true
   },
   "outputs": [
    {
     "data": {
      "text/plain": [
       "(1500, 8)"
      ]
     },
     "execution_count": 8,
     "metadata": {},
     "output_type": "execute_result"
    }
   ],
   "source": [
    "data.shape"
   ]
  },
  {
   "cell_type": "code",
   "execution_count": 9,
   "id": "babccf64",
   "metadata": {
    "scrolled": true
   },
   "outputs": [
    {
     "data": {
      "text/plain": [
       "rice            100\n",
       "maize           100\n",
       "kidney beans    100\n",
       "black gram      100\n",
       "pomegranate     100\n",
       "banana          100\n",
       "mango           100\n",
       "grapes          100\n",
       "apple           100\n",
       "orange          100\n",
       "papaya          100\n",
       "coconut         100\n",
       "cotton          100\n",
       "jute            100\n",
       "coffee          100\n",
       "Name: label, dtype: int64"
      ]
     },
     "execution_count": 9,
     "metadata": {},
     "output_type": "execute_result"
    }
   ],
   "source": [
    "# Checking whether dataset is balanced or not\n",
    "data['label'].value_counts()"
   ]
  },
  {
   "cell_type": "code",
   "execution_count": 10,
   "id": "8817f1b8",
   "metadata": {
    "scrolled": true
   },
   "outputs": [
    {
     "data": {
      "text/plain": [
       "array(['rice', 'maize', 'kidney beans', 'black gram', 'pomegranate',\n",
       "       'banana', 'mango', 'grapes', 'apple', 'orange', 'papaya',\n",
       "       'coconut', 'cotton', 'jute', 'coffee'], dtype=object)"
      ]
     },
     "execution_count": 10,
     "metadata": {},
     "output_type": "execute_result"
    }
   ],
   "source": [
    "#Checking the unique classes in label (output)\n",
    "data['label'].unique()"
   ]
  },
  {
   "cell_type": "code",
   "execution_count": 11,
   "id": "553e7aec",
   "metadata": {
    "scrolled": true
   },
   "outputs": [
    {
     "data": {
      "text/plain": [
       "15"
      ]
     },
     "execution_count": 11,
     "metadata": {},
     "output_type": "execute_result"
    }
   ],
   "source": [
    "#Checking the unique classes in label (output)\n",
    "data['label'].nunique()"
   ]
  },
  {
   "cell_type": "code",
   "execution_count": 12,
   "id": "32f46cb0",
   "metadata": {},
   "outputs": [
    {
     "data": {
      "text/html": [
       "<div>\n",
       "<style scoped>\n",
       "    .dataframe tbody tr th:only-of-type {\n",
       "        vertical-align: middle;\n",
       "    }\n",
       "\n",
       "    .dataframe tbody tr th {\n",
       "        vertical-align: top;\n",
       "    }\n",
       "\n",
       "    .dataframe thead th {\n",
       "        text-align: right;\n",
       "    }\n",
       "</style>\n",
       "<table border=\"1\" class=\"dataframe\">\n",
       "  <thead>\n",
       "    <tr style=\"text-align: right;\">\n",
       "      <th></th>\n",
       "      <th>N</th>\n",
       "      <th>P</th>\n",
       "      <th>K</th>\n",
       "      <th>temperature</th>\n",
       "      <th>humidity</th>\n",
       "      <th>ph</th>\n",
       "      <th>rainfall</th>\n",
       "      <th>label</th>\n",
       "    </tr>\n",
       "  </thead>\n",
       "  <tbody>\n",
       "    <tr>\n",
       "      <th>count</th>\n",
       "      <td>1500.000000</td>\n",
       "      <td>1500.000000</td>\n",
       "      <td>1500.000000</td>\n",
       "      <td>1500.000000</td>\n",
       "      <td>1500.000000</td>\n",
       "      <td>1500.000000</td>\n",
       "      <td>1500.000000</td>\n",
       "      <td>1500</td>\n",
       "    </tr>\n",
       "    <tr>\n",
       "      <th>unique</th>\n",
       "      <td>NaN</td>\n",
       "      <td>NaN</td>\n",
       "      <td>NaN</td>\n",
       "      <td>NaN</td>\n",
       "      <td>NaN</td>\n",
       "      <td>NaN</td>\n",
       "      <td>NaN</td>\n",
       "      <td>15</td>\n",
       "    </tr>\n",
       "    <tr>\n",
       "      <th>top</th>\n",
       "      <td>NaN</td>\n",
       "      <td>NaN</td>\n",
       "      <td>NaN</td>\n",
       "      <td>NaN</td>\n",
       "      <td>NaN</td>\n",
       "      <td>NaN</td>\n",
       "      <td>NaN</td>\n",
       "      <td>rice</td>\n",
       "    </tr>\n",
       "    <tr>\n",
       "      <th>freq</th>\n",
       "      <td>NaN</td>\n",
       "      <td>NaN</td>\n",
       "      <td>NaN</td>\n",
       "      <td>NaN</td>\n",
       "      <td>NaN</td>\n",
       "      <td>NaN</td>\n",
       "      <td>NaN</td>\n",
       "      <td>100</td>\n",
       "    </tr>\n",
       "    <tr>\n",
       "      <th>mean</th>\n",
       "      <td>52.690667</td>\n",
       "      <td>56.112667</td>\n",
       "      <td>53.371333</td>\n",
       "      <td>25.430545</td>\n",
       "      <td>75.113914</td>\n",
       "      <td>6.390652</td>\n",
       "      <td>121.728344</td>\n",
       "      <td>NaN</td>\n",
       "    </tr>\n",
       "    <tr>\n",
       "      <th>std</th>\n",
       "      <td>37.484838</td>\n",
       "      <td>36.660405</td>\n",
       "      <td>58.873924</td>\n",
       "      <td>5.393916</td>\n",
       "      <td>19.624902</td>\n",
       "      <td>0.642545</td>\n",
       "      <td>51.150488</td>\n",
       "      <td>NaN</td>\n",
       "    </tr>\n",
       "    <tr>\n",
       "      <th>min</th>\n",
       "      <td>0.000000</td>\n",
       "      <td>5.000000</td>\n",
       "      <td>5.000000</td>\n",
       "      <td>8.825675</td>\n",
       "      <td>18.092240</td>\n",
       "      <td>4.507524</td>\n",
       "      <td>40.351531</td>\n",
       "      <td>NaN</td>\n",
       "    </tr>\n",
       "    <tr>\n",
       "      <th>25%</th>\n",
       "      <td>21.000000</td>\n",
       "      <td>28.000000</td>\n",
       "      <td>22.000000</td>\n",
       "      <td>22.616237</td>\n",
       "      <td>64.589876</td>\n",
       "      <td>5.884768</td>\n",
       "      <td>87.736901</td>\n",
       "      <td>NaN</td>\n",
       "    </tr>\n",
       "    <tr>\n",
       "      <th>50%</th>\n",
       "      <td>39.000000</td>\n",
       "      <td>50.000000</td>\n",
       "      <td>33.500000</td>\n",
       "      <td>25.046573</td>\n",
       "      <td>81.319567</td>\n",
       "      <td>6.351950</td>\n",
       "      <td>107.711167</td>\n",
       "      <td>NaN</td>\n",
       "    </tr>\n",
       "    <tr>\n",
       "      <th>75%</th>\n",
       "      <td>88.000000</td>\n",
       "      <td>71.000000</td>\n",
       "      <td>46.000000</td>\n",
       "      <td>27.988736</td>\n",
       "      <td>90.876194</td>\n",
       "      <td>6.835967</td>\n",
       "      <td>149.770282</td>\n",
       "      <td>NaN</td>\n",
       "    </tr>\n",
       "    <tr>\n",
       "      <th>max</th>\n",
       "      <td>140.000000</td>\n",
       "      <td>145.000000</td>\n",
       "      <td>205.000000</td>\n",
       "      <td>43.675493</td>\n",
       "      <td>99.981876</td>\n",
       "      <td>7.995849</td>\n",
       "      <td>298.560117</td>\n",
       "      <td>NaN</td>\n",
       "    </tr>\n",
       "  </tbody>\n",
       "</table>\n",
       "</div>"
      ],
      "text/plain": [
       "                  N            P            K  temperature     humidity  \\\n",
       "count   1500.000000  1500.000000  1500.000000  1500.000000  1500.000000   \n",
       "unique          NaN          NaN          NaN          NaN          NaN   \n",
       "top             NaN          NaN          NaN          NaN          NaN   \n",
       "freq            NaN          NaN          NaN          NaN          NaN   \n",
       "mean      52.690667    56.112667    53.371333    25.430545    75.113914   \n",
       "std       37.484838    36.660405    58.873924     5.393916    19.624902   \n",
       "min        0.000000     5.000000     5.000000     8.825675    18.092240   \n",
       "25%       21.000000    28.000000    22.000000    22.616237    64.589876   \n",
       "50%       39.000000    50.000000    33.500000    25.046573    81.319567   \n",
       "75%       88.000000    71.000000    46.000000    27.988736    90.876194   \n",
       "max      140.000000   145.000000   205.000000    43.675493    99.981876   \n",
       "\n",
       "                 ph     rainfall label  \n",
       "count   1500.000000  1500.000000  1500  \n",
       "unique          NaN          NaN    15  \n",
       "top             NaN          NaN  rice  \n",
       "freq            NaN          NaN   100  \n",
       "mean       6.390652   121.728344   NaN  \n",
       "std        0.642545    51.150488   NaN  \n",
       "min        4.507524    40.351531   NaN  \n",
       "25%        5.884768    87.736901   NaN  \n",
       "50%        6.351950   107.711167   NaN  \n",
       "75%        6.835967   149.770282   NaN  \n",
       "max        7.995849   298.560117   NaN  "
      ]
     },
     "execution_count": 12,
     "metadata": {},
     "output_type": "execute_result"
    }
   ],
   "source": [
    "data.describe(include=\"all\")"
   ]
  },
  {
   "cell_type": "code",
   "execution_count": 13,
   "id": "d48623b0",
   "metadata": {},
   "outputs": [],
   "source": [
    "#Shows summary statistics of datset. Here we can know the data quality is good by checking how close in mean and median.\n",
    "#In this dataset temperature and ph seems to have better distribution, other columns may have outliers."
   ]
  },
  {
   "cell_type": "code",
   "execution_count": 14,
   "id": "1140ebe7",
   "metadata": {
    "scrolled": true
   },
   "outputs": [
    {
     "name": "stdout",
     "output_type": "stream",
     "text": [
      "Average Ratio of Nitrogen in the Soil : 52.69\n",
      "Average Ratio of Phosphorous in the Soil : 56.11\n",
      "Average Ratio of Potassium in the Soil : 53.37\n",
      "Average Tempature in Celsius : 25.43\n",
      "Average Relative Humidity in % : 75.11\n",
      "Average PH Value of the soil : 6.39\n",
      "Average Rainfall in mm : 121.73\n"
     ]
    }
   ],
   "source": [
    "# lets check the Summary for all the crops\n",
    "\n",
    "print(\"Average Ratio of Nitrogen in the Soil : {0:.2f}\".format(data['N'].mean()))\n",
    "print(\"Average Ratio of Phosphorous in the Soil : {0:.2f}\".format(data['P'].mean()))\n",
    "print(\"Average Ratio of Potassium in the Soil : {0:.2f}\".format(data['K'].mean()))\n",
    "print(\"Average Tempature in Celsius : {0:.2f}\".format(data['temperature'].mean()))\n",
    "print(\"Average Relative Humidity in % : {0:.2f}\".format(data['humidity'].mean()))\n",
    "print(\"Average PH Value of the soil : {0:.2f}\".format(data['ph'].mean()))\n",
    "print(\"Average Rainfall in mm : {0:.2f}\".format(data['rainfall'].mean()))"
   ]
  },
  {
   "cell_type": "code",
   "execution_count": 15,
   "id": "0a0e60ca",
   "metadata": {
    "scrolled": true
   },
   "outputs": [
    {
     "data": {
      "image/png": "[encoded data removed]",
      "text/plain": [
       "<Figure size 1500x900 with 2 Axes>"
      ]
     },
     "metadata": {},
     "output_type": "display_data"
    }
   ],
   "source": [
    "fig, ax = plt.subplots(1, 1, figsize=(15, 9))\n",
    "sns.heatmap(data.corr(), annot=True,cmap='viridis')\n",
    "ax.set(xlabel='features')\n",
    "ax.set(ylabel='features')\n",
    "#f,ax=plt.subplots(figsize=(5,5))\n",
    "plt.title('Correlation between different features', fontsize = 15, c='black')\n",
    "plt.show()"
   ]
  },
  {
   "cell_type": "code",
   "execution_count": 16,
   "id": "5474f72c",
   "metadata": {},
   "outputs": [],
   "source": [
    "#Correlation between Potassium and Phosphorus is high."
   ]
  },
  {
   "cell_type": "code",
   "execution_count": 17,
   "id": "6110de7f",
   "metadata": {
    "scrolled": true
   },
   "outputs": [
    {
     "data": {
      "text/html": [
       "<div>\n",
       "<style scoped>\n",
       "    .dataframe tbody tr th:only-of-type {\n",
       "        vertical-align: middle;\n",
       "    }\n",
       "\n",
       "    .dataframe tbody tr th {\n",
       "        vertical-align: top;\n",
       "    }\n",
       "\n",
       "    .dataframe thead th {\n",
       "        text-align: right;\n",
       "    }\n",
       "</style>\n",
       "<table border=\"1\" class=\"dataframe\">\n",
       "  <thead>\n",
       "    <tr style=\"text-align: right;\">\n",
       "      <th></th>\n",
       "      <th>K</th>\n",
       "      <th>N</th>\n",
       "      <th>P</th>\n",
       "      <th>humidity</th>\n",
       "      <th>ph</th>\n",
       "      <th>rainfall</th>\n",
       "      <th>temperature</th>\n",
       "    </tr>\n",
       "    <tr>\n",
       "      <th>label</th>\n",
       "      <th></th>\n",
       "      <th></th>\n",
       "      <th></th>\n",
       "      <th></th>\n",
       "      <th></th>\n",
       "      <th></th>\n",
       "      <th></th>\n",
       "    </tr>\n",
       "  </thead>\n",
       "  <tbody>\n",
       "    <tr>\n",
       "      <th>apple</th>\n",
       "      <td>200.44</td>\n",
       "      <td>19.27</td>\n",
       "      <td>133.83</td>\n",
       "      <td>92.333383</td>\n",
       "      <td>5.929663</td>\n",
       "      <td>112.654779</td>\n",
       "      <td>22.630942</td>\n",
       "    </tr>\n",
       "    <tr>\n",
       "      <th>banana</th>\n",
       "      <td>49.99</td>\n",
       "      <td>100.54</td>\n",
       "      <td>83.08</td>\n",
       "      <td>80.358123</td>\n",
       "      <td>5.983893</td>\n",
       "      <td>104.626980</td>\n",
       "      <td>27.376798</td>\n",
       "    </tr>\n",
       "    <tr>\n",
       "      <th>black gram</th>\n",
       "      <td>19.95</td>\n",
       "      <td>38.04</td>\n",
       "      <td>68.49</td>\n",
       "      <td>65.118426</td>\n",
       "      <td>7.133952</td>\n",
       "      <td>67.884151</td>\n",
       "      <td>29.973340</td>\n",
       "    </tr>\n",
       "    <tr>\n",
       "      <th>coconut</th>\n",
       "      <td>29.75</td>\n",
       "      <td>18.66</td>\n",
       "      <td>17.70</td>\n",
       "      <td>94.844272</td>\n",
       "      <td>5.976562</td>\n",
       "      <td>175.686646</td>\n",
       "      <td>27.409892</td>\n",
       "    </tr>\n",
       "    <tr>\n",
       "      <th>coffee</th>\n",
       "      <td>30.20</td>\n",
       "      <td>98.78</td>\n",
       "      <td>26.58</td>\n",
       "      <td>58.869846</td>\n",
       "      <td>6.790308</td>\n",
       "      <td>158.066295</td>\n",
       "      <td>25.540477</td>\n",
       "    </tr>\n",
       "  </tbody>\n",
       "</table>\n",
       "</div>"
      ],
      "text/plain": [
       "                 K       N       P   humidity        ph    rainfall  \\\n",
       "label                                                                 \n",
       "apple       200.44   19.27  133.83  92.333383  5.929663  112.654779   \n",
       "banana       49.99  100.54   83.08  80.358123  5.983893  104.626980   \n",
       "black gram   19.95   38.04   68.49  65.118426  7.133952   67.884151   \n",
       "coconut      29.75   18.66   17.70  94.844272  5.976562  175.686646   \n",
       "coffee       30.20   98.78   26.58  58.869846  6.790308  158.066295   \n",
       "\n",
       "            temperature  \n",
       "label                    \n",
       "apple         22.630942  \n",
       "banana        27.376798  \n",
       "black gram    29.973340  \n",
       "coconut       27.409892  \n",
       "coffee        25.540477  "
      ]
     },
     "execution_count": 17,
     "metadata": {},
     "output_type": "execute_result"
    }
   ],
   "source": [
    "crop_summary = pd.pivot_table(data,index=['label'],aggfunc='mean')\n",
    "crop_summary.head()"
   ]
  },
  {
   "cell_type": "code",
   "execution_count": 18,
   "id": "deb95517",
   "metadata": {},
   "outputs": [
    {
     "data": {
      "image/png": "[encoded data removed]",
      "text/plain": [
       "<Figure size 1600x1000 with 7 Axes>"
      ]
     },
     "metadata": {},
     "output_type": "display_data"
    }
   ],
   "source": [
    "### Data Visualizations\n",
    "\n",
    "plt.rcParams['figure.figsize'] = (16,10)\n",
    "\n",
    "plt.subplot(2, 4, 1)\n",
    "sns.barplot(data['N'], data['label'])\n",
    "plt.ylabel(' ')\n",
    "plt.xlabel('Ratio of Nitrogen', fontsize = 10)\n",
    "plt.yticks(fontsize = 10)\n",
    "\n",
    "plt.subplot(2, 4, 2)\n",
    "sns.barplot(data['P'], data['label'])\n",
    "plt.ylabel(' ')\n",
    "plt.xlabel('Ratio of Phosphorous', fontsize = 10)\n",
    "plt.yticks(fontsize = 10)\n",
    "\n",
    "plt.subplot(2, 4, 3)\n",
    "sns.barplot(data['K'], data['label'])\n",
    "plt.ylabel(' ')\n",
    "plt.xlabel('Ratio of Potassium', fontsize = 10)\n",
    "plt.yticks(fontsize = 10)\n",
    "\n",
    "plt.subplot(2, 4, 4)\n",
    "sns.barplot(data['temperature'], data['label'])\n",
    "plt.ylabel(' ')\n",
    "plt.xlabel('Temperature', fontsize = 10)\n",
    "plt.yticks(fontsize = 10)\n",
    "\n",
    "plt.subplot(2, 4, 5)\n",
    "sns.barplot(data['humidity'], data['label'])\n",
    "plt.ylabel(' ')\n",
    "plt.xlabel('Humidity', fontsize = 10)\n",
    "plt.yticks(fontsize = 10)\n",
    "\n",
    "plt.subplot(2, 4, 6)\n",
    "sns.barplot(data['ph'], data['label'])\n",
    "plt.ylabel(' ')\n",
    "plt.xlabel('pH of Soil', fontsize = 10)\n",
    "plt.yticks(fontsize = 10)\n",
    "\n",
    "plt.subplot(2, 4, 7)\n",
    "sns.barplot(data['rainfall'], data['label'])\n",
    "plt.ylabel(' ')\n",
    "plt.xlabel('Rainfall', fontsize = 10)\n",
    "plt.yticks(fontsize = 10)\n",
    "\n",
    "plt.suptitle('Visualizing the Impact of Different Conditions on Crops', fontsize = 15)\n",
    "plt.show()"
   ]
  },
  {
   "cell_type": "markdown",
   "id": "b0b5fac6",
   "metadata": {},
   "source": [
    "CLASSIFICATION"
   ]
  },
  {
   "cell_type": "code",
   "execution_count": 19,
   "id": "780732d3",
   "metadata": {},
   "outputs": [
    {
     "data": {
      "text/html": [
       "<style type=\"text/css\">\n",
       "#T_873e4_row44_col1 {\n",
       "  background-color: lightgreen;\n",
       "}\n",
       "</style>\n",
       "<table id=\"T_873e4_\">\n",
       "  <thead>\n",
       "    <tr>\n",
       "      <th class=\"blank level0\" >&nbsp;</th>\n",
       "      <th class=\"col_heading level0 col0\" >Description</th>\n",
       "      <th class=\"col_heading level0 col1\" >Value</th>\n",
       "    </tr>\n",
       "  </thead>\n",
       "  <tbody>\n",
       "    <tr>\n",
       "      <th id=\"T_873e4_level0_row0\" class=\"row_heading level0 row0\" >0</th>\n",
       "      <td id=\"T_873e4_row0_col0\" class=\"data row0 col0\" >session_id</td>\n",
       "      <td id=\"T_873e4_row0_col1\" class=\"data row0 col1\" >123</td>\n",
       "    </tr>\n",
       "    <tr>\n",
       "      <th id=\"T_873e4_level0_row1\" class=\"row_heading level0 row1\" >1</th>\n",
       "      <td id=\"T_873e4_row1_col0\" class=\"data row1 col0\" >Target</td>\n",
       "      <td id=\"T_873e4_row1_col1\" class=\"data row1 col1\" >label</td>\n",
       "    </tr>\n",
       "    <tr>\n",
       "      <th id=\"T_873e4_level0_row2\" class=\"row_heading level0 row2\" >2</th>\n",
       "      <td id=\"T_873e4_row2_col0\" class=\"data row2 col0\" >Target Type</td>\n",
       "      <td id=\"T_873e4_row2_col1\" class=\"data row2 col1\" >Multiclass</td>\n",
       "    </tr>\n",
       "    <tr>\n",
       "      <th id=\"T_873e4_level0_row3\" class=\"row_heading level0 row3\" >3</th>\n",
       "      <td id=\"T_873e4_row3_col0\" class=\"data row3 col0\" >Label Encoded</td>\n",
       "      <td id=\"T_873e4_row3_col1\" class=\"data row3 col1\" >apple: 0, banana: 1, black gram: 2, coconut: 3, coffee: 4, cotton: 5, grapes: 6, jute: 7, kidney beans: 8, maize: 9, mango: 10, orange: 11, papaya: 12, pomegranate: 13, rice: 14</td>\n",
       "    </tr>\n",
       "    <tr>\n",
       "      <th id=\"T_873e4_level0_row4\" class=\"row_heading level0 row4\" >4</th>\n",
       "      <td id=\"T_873e4_row4_col0\" class=\"data row4 col0\" >Original Data</td>\n",
       "      <td id=\"T_873e4_row4_col1\" class=\"data row4 col1\" >(1500, 8)</td>\n",
       "    </tr>\n",
       "    <tr>\n",
       "      <th id=\"T_873e4_level0_row5\" class=\"row_heading level0 row5\" >5</th>\n",
       "      <td id=\"T_873e4_row5_col0\" class=\"data row5 col0\" >Missing Values</td>\n",
       "      <td id=\"T_873e4_row5_col1\" class=\"data row5 col1\" >False</td>\n",
       "    </tr>\n",
       "    <tr>\n",
       "      <th id=\"T_873e4_level0_row6\" class=\"row_heading level0 row6\" >6</th>\n",
       "      <td id=\"T_873e4_row6_col0\" class=\"data row6 col0\" >Numeric Features</td>\n",
       "      <td id=\"T_873e4_row6_col1\" class=\"data row6 col1\" >7</td>\n",
       "    </tr>\n",
       "    <tr>\n",
       "      <th id=\"T_873e4_level0_row7\" class=\"row_heading level0 row7\" >7</th>\n",
       "      <td id=\"T_873e4_row7_col0\" class=\"data row7 col0\" >Categorical Features</td>\n",
       "      <td id=\"T_873e4_row7_col1\" class=\"data row7 col1\" >0</td>\n",
       "    </tr>\n",
       "    <tr>\n",
       "      <th id=\"T_873e4_level0_row8\" class=\"row_heading level0 row8\" >8</th>\n",
       "      <td id=\"T_873e4_row8_col0\" class=\"data row8 col0\" >Ordinal Features</td>\n",
       "      <td id=\"T_873e4_row8_col1\" class=\"data row8 col1\" >False</td>\n",
       "    </tr>\n",
       "    <tr>\n",
       "      <th id=\"T_873e4_level0_row9\" class=\"row_heading level0 row9\" >9</th>\n",
       "      <td id=\"T_873e4_row9_col0\" class=\"data row9 col0\" >High Cardinality Features</td>\n",
       "      <td id=\"T_873e4_row9_col1\" class=\"data row9 col1\" >False</td>\n",
       "    </tr>\n",
       "    <tr>\n",
       "      <th id=\"T_873e4_level0_row10\" class=\"row_heading level0 row10\" >10</th>\n",
       "      <td id=\"T_873e4_row10_col0\" class=\"data row10 col0\" >High Cardinality Method</td>\n",
       "      <td id=\"T_873e4_row10_col1\" class=\"data row10 col1\" >None</td>\n",
       "    </tr>\n",
       "    <tr>\n",
       "      <th id=\"T_873e4_level0_row11\" class=\"row_heading level0 row11\" >11</th>\n",
       "      <td id=\"T_873e4_row11_col0\" class=\"data row11 col0\" >Transformed Train Set</td>\n",
       "      <td id=\"T_873e4_row11_col1\" class=\"data row11 col1\" >(1049, 7)</td>\n",
       "    </tr>\n",
       "    <tr>\n",
       "      <th id=\"T_873e4_level0_row12\" class=\"row_heading level0 row12\" >12</th>\n",
       "      <td id=\"T_873e4_row12_col0\" class=\"data row12 col0\" >Transformed Test Set</td>\n",
       "      <td id=\"T_873e4_row12_col1\" class=\"data row12 col1\" >(451, 7)</td>\n",
       "    </tr>\n",
       "    <tr>\n",
       "      <th id=\"T_873e4_level0_row13\" class=\"row_heading level0 row13\" >13</th>\n",
       "      <td id=\"T_873e4_row13_col0\" class=\"data row13 col0\" >Shuffle Train-Test</td>\n",
       "      <td id=\"T_873e4_row13_col1\" class=\"data row13 col1\" >True</td>\n",
       "    </tr>\n",
       "    <tr>\n",
       "      <th id=\"T_873e4_level0_row14\" class=\"row_heading level0 row14\" >14</th>\n",
       "      <td id=\"T_873e4_row14_col0\" class=\"data row14 col0\" >Stratify Train-Test</td>\n",
       "      <td id=\"T_873e4_row14_col1\" class=\"data row14 col1\" >False</td>\n",
       "    </tr>\n",
       "    <tr>\n",
       "      <th id=\"T_873e4_level0_row15\" class=\"row_heading level0 row15\" >15</th>\n",
       "      <td id=\"T_873e4_row15_col0\" class=\"data row15 col0\" >Fold Generator</td>\n",
       "      <td id=\"T_873e4_row15_col1\" class=\"data row15 col1\" >StratifiedKFold</td>\n",
       "    </tr>\n",
       "    <tr>\n",
       "      <th id=\"T_873e4_level0_row16\" class=\"row_heading level0 row16\" >16</th>\n",
       "      <td id=\"T_873e4_row16_col0\" class=\"data row16 col0\" >Fold Number</td>\n",
       "      <td id=\"T_873e4_row16_col1\" class=\"data row16 col1\" >10</td>\n",
       "    </tr>\n",
       "    <tr>\n",
       "      <th id=\"T_873e4_level0_row17\" class=\"row_heading level0 row17\" >17</th>\n",
       "      <td id=\"T_873e4_row17_col0\" class=\"data row17 col0\" >CPU Jobs</td>\n",
       "      <td id=\"T_873e4_row17_col1\" class=\"data row17 col1\" >-1</td>\n",
       "    </tr>\n",
       "    <tr>\n",
       "      <th id=\"T_873e4_level0_row18\" class=\"row_heading level0 row18\" >18</th>\n",
       "      <td id=\"T_873e4_row18_col0\" class=\"data row18 col0\" >Use GPU</td>\n",
       "      <td id=\"T_873e4_row18_col1\" class=\"data row18 col1\" >False</td>\n",
       "    </tr>\n",
       "    <tr>\n",
       "      <th id=\"T_873e4_level0_row19\" class=\"row_heading level0 row19\" >19</th>\n",
       "      <td id=\"T_873e4_row19_col0\" class=\"data row19 col0\" >Log Experiment</td>\n",
       "      <td id=\"T_873e4_row19_col1\" class=\"data row19 col1\" >False</td>\n",
       "    </tr>\n",
       "    <tr>\n",
       "      <th id=\"T_873e4_level0_row20\" class=\"row_heading level0 row20\" >20</th>\n",
       "      <td id=\"T_873e4_row20_col0\" class=\"data row20 col0\" >Experiment Name</td>\n",
       "      <td id=\"T_873e4_row20_col1\" class=\"data row20 col1\" >clf-default-name</td>\n",
       "    </tr>\n",
       "    <tr>\n",
       "      <th id=\"T_873e4_level0_row21\" class=\"row_heading level0 row21\" >21</th>\n",
       "      <td id=\"T_873e4_row21_col0\" class=\"data row21 col0\" >USI</td>\n",
       "      <td id=\"T_873e4_row21_col1\" class=\"data row21 col1\" >2c2f</td>\n",
       "    </tr>\n",
       "    <tr>\n",
       "      <th id=\"T_873e4_level0_row22\" class=\"row_heading level0 row22\" >22</th>\n",
       "      <td id=\"T_873e4_row22_col0\" class=\"data row22 col0\" >Imputation Type</td>\n",
       "      <td id=\"T_873e4_row22_col1\" class=\"data row22 col1\" >simple</td>\n",
       "    </tr>\n",
       "    <tr>\n",
       "      <th id=\"T_873e4_level0_row23\" class=\"row_heading level0 row23\" >23</th>\n",
       "      <td id=\"T_873e4_row23_col0\" class=\"data row23 col0\" >Iterative Imputation Iteration</td>\n",
       "      <td id=\"T_873e4_row23_col1\" class=\"data row23 col1\" >None</td>\n",
       "    </tr>\n",
       "    <tr>\n",
       "      <th id=\"T_873e4_level0_row24\" class=\"row_heading level0 row24\" >24</th>\n",
       "      <td id=\"T_873e4_row24_col0\" class=\"data row24 col0\" >Numeric Imputer</td>\n",
       "      <td id=\"T_873e4_row24_col1\" class=\"data row24 col1\" >mean</td>\n",
       "    </tr>\n",
       "    <tr>\n",
       "      <th id=\"T_873e4_level0_row25\" class=\"row_heading level0 row25\" >25</th>\n",
       "      <td id=\"T_873e4_row25_col0\" class=\"data row25 col0\" >Iterative Imputation Numeric Model</td>\n",
       "      <td id=\"T_873e4_row25_col1\" class=\"data row25 col1\" >None</td>\n",
       "    </tr>\n",
       "    <tr>\n",
       "      <th id=\"T_873e4_level0_row26\" class=\"row_heading level0 row26\" >26</th>\n",
       "      <td id=\"T_873e4_row26_col0\" class=\"data row26 col0\" >Categorical Imputer</td>\n",
       "      <td id=\"T_873e4_row26_col1\" class=\"data row26 col1\" >constant</td>\n",
       "    </tr>\n",
       "    <tr>\n",
       "      <th id=\"T_873e4_level0_row27\" class=\"row_heading level0 row27\" >27</th>\n",
       "      <td id=\"T_873e4_row27_col0\" class=\"data row27 col0\" >Iterative Imputation Categorical Model</td>\n",
       "      <td id=\"T_873e4_row27_col1\" class=\"data row27 col1\" >None</td>\n",
       "    </tr>\n",
       "    <tr>\n",
       "      <th id=\"T_873e4_level0_row28\" class=\"row_heading level0 row28\" >28</th>\n",
       "      <td id=\"T_873e4_row28_col0\" class=\"data row28 col0\" >Unknown Categoricals Handling</td>\n",
       "      <td id=\"T_873e4_row28_col1\" class=\"data row28 col1\" >least_frequent</td>\n",
       "    </tr>\n",
       "    <tr>\n",
       "      <th id=\"T_873e4_level0_row29\" class=\"row_heading level0 row29\" >29</th>\n",
       "      <td id=\"T_873e4_row29_col0\" class=\"data row29 col0\" >Normalize</td>\n",
       "      <td id=\"T_873e4_row29_col1\" class=\"data row29 col1\" >False</td>\n",
       "    </tr>\n",
       "    <tr>\n",
       "      <th id=\"T_873e4_level0_row30\" class=\"row_heading level0 row30\" >30</th>\n",
       "      <td id=\"T_873e4_row30_col0\" class=\"data row30 col0\" >Normalize Method</td>\n",
       "      <td id=\"T_873e4_row30_col1\" class=\"data row30 col1\" >None</td>\n",
       "    </tr>\n",
       "    <tr>\n",
       "      <th id=\"T_873e4_level0_row31\" class=\"row_heading level0 row31\" >31</th>\n",
       "      <td id=\"T_873e4_row31_col0\" class=\"data row31 col0\" >Transformation</td>\n",
       "      <td id=\"T_873e4_row31_col1\" class=\"data row31 col1\" >False</td>\n",
       "    </tr>\n",
       "    <tr>\n",
       "      <th id=\"T_873e4_level0_row32\" class=\"row_heading level0 row32\" >32</th>\n",
       "      <td id=\"T_873e4_row32_col0\" class=\"data row32 col0\" >Transformation Method</td>\n",
       "      <td id=\"T_873e4_row32_col1\" class=\"data row32 col1\" >None</td>\n",
       "    </tr>\n",
       "    <tr>\n",
       "      <th id=\"T_873e4_level0_row33\" class=\"row_heading level0 row33\" >33</th>\n",
       "      <td id=\"T_873e4_row33_col0\" class=\"data row33 col0\" >PCA</td>\n",
       "      <td id=\"T_873e4_row33_col1\" class=\"data row33 col1\" >False</td>\n",
       "    </tr>\n",
       "    <tr>\n",
       "      <th id=\"T_873e4_level0_row34\" class=\"row_heading level0 row34\" >34</th>\n",
       "      <td id=\"T_873e4_row34_col0\" class=\"data row34 col0\" >PCA Method</td>\n",
       "      <td id=\"T_873e4_row34_col1\" class=\"data row34 col1\" >None</td>\n",
       "    </tr>\n",
       "    <tr>\n",
       "      <th id=\"T_873e4_level0_row35\" class=\"row_heading level0 row35\" >35</th>\n",
       "      <td id=\"T_873e4_row35_col0\" class=\"data row35 col0\" >PCA Components</td>\n",
       "      <td id=\"T_873e4_row35_col1\" class=\"data row35 col1\" >None</td>\n",
       "    </tr>\n",
       "    <tr>\n",
       "      <th id=\"T_873e4_level0_row36\" class=\"row_heading level0 row36\" >36</th>\n",
       "      <td id=\"T_873e4_row36_col0\" class=\"data row36 col0\" >Ignore Low Variance</td>\n",
       "      <td id=\"T_873e4_row36_col1\" class=\"data row36 col1\" >False</td>\n",
       "    </tr>\n",
       "    <tr>\n",
       "      <th id=\"T_873e4_level0_row37\" class=\"row_heading level0 row37\" >37</th>\n",
       "      <td id=\"T_873e4_row37_col0\" class=\"data row37 col0\" >Combine Rare Levels</td>\n",
       "      <td id=\"T_873e4_row37_col1\" class=\"data row37 col1\" >False</td>\n",
       "    </tr>\n",
       "    <tr>\n",
       "      <th id=\"T_873e4_level0_row38\" class=\"row_heading level0 row38\" >38</th>\n",
       "      <td id=\"T_873e4_row38_col0\" class=\"data row38 col0\" >Rare Level Threshold</td>\n",
       "      <td id=\"T_873e4_row38_col1\" class=\"data row38 col1\" >None</td>\n",
       "    </tr>\n",
       "    <tr>\n",
       "      <th id=\"T_873e4_level0_row39\" class=\"row_heading level0 row39\" >39</th>\n",
       "      <td id=\"T_873e4_row39_col0\" class=\"data row39 col0\" >Numeric Binning</td>\n",
       "      <td id=\"T_873e4_row39_col1\" class=\"data row39 col1\" >False</td>\n",
       "    </tr>\n",
       "    <tr>\n",
       "      <th id=\"T_873e4_level0_row40\" class=\"row_heading level0 row40\" >40</th>\n",
       "      <td id=\"T_873e4_row40_col0\" class=\"data row40 col0\" >Remove Outliers</td>\n",
       "      <td id=\"T_873e4_row40_col1\" class=\"data row40 col1\" >False</td>\n",
       "    </tr>\n",
       "    <tr>\n",
       "      <th id=\"T_873e4_level0_row41\" class=\"row_heading level0 row41\" >41</th>\n",
       "      <td id=\"T_873e4_row41_col0\" class=\"data row41 col0\" >Outliers Threshold</td>\n",
       "      <td id=\"T_873e4_row41_col1\" class=\"data row41 col1\" >None</td>\n",
       "    </tr>\n",
       "    <tr>\n",
       "      <th id=\"T_873e4_level0_row42\" class=\"row_heading level0 row42\" >42</th>\n",
       "      <td id=\"T_873e4_row42_col0\" class=\"data row42 col0\" >Remove Multicollinearity</td>\n",
       "      <td id=\"T_873e4_row42_col1\" class=\"data row42 col1\" >False</td>\n",
       "    </tr>\n",
       "    <tr>\n",
       "      <th id=\"T_873e4_level0_row43\" class=\"row_heading level0 row43\" >43</th>\n",
       "      <td id=\"T_873e4_row43_col0\" class=\"data row43 col0\" >Multicollinearity Threshold</td>\n",
       "      <td id=\"T_873e4_row43_col1\" class=\"data row43 col1\" >None</td>\n",
       "    </tr>\n",
       "    <tr>\n",
       "      <th id=\"T_873e4_level0_row44\" class=\"row_heading level0 row44\" >44</th>\n",
       "      <td id=\"T_873e4_row44_col0\" class=\"data row44 col0\" >Remove Perfect Collinearity</td>\n",
       "      <td id=\"T_873e4_row44_col1\" class=\"data row44 col1\" >True</td>\n",
       "    </tr>\n",
       "    <tr>\n",
       "      <th id=\"T_873e4_level0_row45\" class=\"row_heading level0 row45\" >45</th>\n",
       "      <td id=\"T_873e4_row45_col0\" class=\"data row45 col0\" >Clustering</td>\n",
       "      <td id=\"T_873e4_row45_col1\" class=\"data row45 col1\" >False</td>\n",
       "    </tr>\n",
       "    <tr>\n",
       "      <th id=\"T_873e4_level0_row46\" class=\"row_heading level0 row46\" >46</th>\n",
       "      <td id=\"T_873e4_row46_col0\" class=\"data row46 col0\" >Clustering Iteration</td>\n",
       "      <td id=\"T_873e4_row46_col1\" class=\"data row46 col1\" >None</td>\n",
       "    </tr>\n",
       "    <tr>\n",
       "      <th id=\"T_873e4_level0_row47\" class=\"row_heading level0 row47\" >47</th>\n",
       "      <td id=\"T_873e4_row47_col0\" class=\"data row47 col0\" >Polynomial Features</td>\n",
       "      <td id=\"T_873e4_row47_col1\" class=\"data row47 col1\" >False</td>\n",
       "    </tr>\n",
       "    <tr>\n",
       "      <th id=\"T_873e4_level0_row48\" class=\"row_heading level0 row48\" >48</th>\n",
       "      <td id=\"T_873e4_row48_col0\" class=\"data row48 col0\" >Polynomial Degree</td>\n",
       "      <td id=\"T_873e4_row48_col1\" class=\"data row48 col1\" >None</td>\n",
       "    </tr>\n",
       "    <tr>\n",
       "      <th id=\"T_873e4_level0_row49\" class=\"row_heading level0 row49\" >49</th>\n",
       "      <td id=\"T_873e4_row49_col0\" class=\"data row49 col0\" >Trignometry Features</td>\n",
       "      <td id=\"T_873e4_row49_col1\" class=\"data row49 col1\" >False</td>\n",
       "    </tr>\n",
       "    <tr>\n",
       "      <th id=\"T_873e4_level0_row50\" class=\"row_heading level0 row50\" >50</th>\n",
       "      <td id=\"T_873e4_row50_col0\" class=\"data row50 col0\" >Polynomial Threshold</td>\n",
       "      <td id=\"T_873e4_row50_col1\" class=\"data row50 col1\" >None</td>\n",
       "    </tr>\n",
       "    <tr>\n",
       "      <th id=\"T_873e4_level0_row51\" class=\"row_heading level0 row51\" >51</th>\n",
       "      <td id=\"T_873e4_row51_col0\" class=\"data row51 col0\" >Group Features</td>\n",
       "      <td id=\"T_873e4_row51_col1\" class=\"data row51 col1\" >False</td>\n",
       "    </tr>\n",
       "    <tr>\n",
       "      <th id=\"T_873e4_level0_row52\" class=\"row_heading level0 row52\" >52</th>\n",
       "      <td id=\"T_873e4_row52_col0\" class=\"data row52 col0\" >Feature Selection</td>\n",
       "      <td id=\"T_873e4_row52_col1\" class=\"data row52 col1\" >False</td>\n",
       "    </tr>\n",
       "    <tr>\n",
       "      <th id=\"T_873e4_level0_row53\" class=\"row_heading level0 row53\" >53</th>\n",
       "      <td id=\"T_873e4_row53_col0\" class=\"data row53 col0\" >Feature Selection Method</td>\n",
       "      <td id=\"T_873e4_row53_col1\" class=\"data row53 col1\" >classic</td>\n",
       "    </tr>\n",
       "    <tr>\n",
       "      <th id=\"T_873e4_level0_row54\" class=\"row_heading level0 row54\" >54</th>\n",
       "      <td id=\"T_873e4_row54_col0\" class=\"data row54 col0\" >Features Selection Threshold</td>\n",
       "      <td id=\"T_873e4_row54_col1\" class=\"data row54 col1\" >None</td>\n",
       "    </tr>\n",
       "    <tr>\n",
       "      <th id=\"T_873e4_level0_row55\" class=\"row_heading level0 row55\" >55</th>\n",
       "      <td id=\"T_873e4_row55_col0\" class=\"data row55 col0\" >Feature Interaction</td>\n",
       "      <td id=\"T_873e4_row55_col1\" class=\"data row55 col1\" >False</td>\n",
       "    </tr>\n",
       "    <tr>\n",
       "      <th id=\"T_873e4_level0_row56\" class=\"row_heading level0 row56\" >56</th>\n",
       "      <td id=\"T_873e4_row56_col0\" class=\"data row56 col0\" >Feature Ratio</td>\n",
       "      <td id=\"T_873e4_row56_col1\" class=\"data row56 col1\" >False</td>\n",
       "    </tr>\n",
       "    <tr>\n",
       "      <th id=\"T_873e4_level0_row57\" class=\"row_heading level0 row57\" >57</th>\n",
       "      <td id=\"T_873e4_row57_col0\" class=\"data row57 col0\" >Interaction Threshold</td>\n",
       "      <td id=\"T_873e4_row57_col1\" class=\"data row57 col1\" >None</td>\n",
       "    </tr>\n",
       "    <tr>\n",
       "      <th id=\"T_873e4_level0_row58\" class=\"row_heading level0 row58\" >58</th>\n",
       "      <td id=\"T_873e4_row58_col0\" class=\"data row58 col0\" >Fix Imbalance</td>\n",
       "      <td id=\"T_873e4_row58_col1\" class=\"data row58 col1\" >False</td>\n",
       "    </tr>\n",
       "    <tr>\n",
       "      <th id=\"T_873e4_level0_row59\" class=\"row_heading level0 row59\" >59</th>\n",
       "      <td id=\"T_873e4_row59_col0\" class=\"data row59 col0\" >Fix Imbalance Method</td>\n",
       "      <td id=\"T_873e4_row59_col1\" class=\"data row59 col1\" >SMOTE</td>\n",
       "    </tr>\n",
       "  </tbody>\n",
       "</table>\n"
      ],
      "text/plain": [
       "<pandas.io.formats.style.Styler at 0x260dbf75dc8>"
      ]
     },
     "metadata": {},
     "output_type": "display_data"
    }
   ],
   "source": [
    "clasf =  cp.setup(data,target='label',session_id=123)"
   ]
  },
  {
   "cell_type": "code",
   "execution_count": 20,
   "id": "01aade49",
   "metadata": {
    "scrolled": true
   },
   "outputs": [
    {
     "data": {
      "text/html": [
       "<style type=\"text/css\">\n",
       "#T_2400c_ th {\n",
       "  text-align: left;\n",
       "}\n",
       "#T_2400c_row0_col0, #T_2400c_row1_col0, #T_2400c_row1_col1, #T_2400c_row1_col2, #T_2400c_row1_col3, #T_2400c_row1_col4, #T_2400c_row1_col5, #T_2400c_row1_col6, #T_2400c_row1_col7, #T_2400c_row2_col0, #T_2400c_row2_col1, #T_2400c_row2_col3, #T_2400c_row2_col4, #T_2400c_row2_col5, #T_2400c_row2_col6, #T_2400c_row2_col7, #T_2400c_row3_col0, #T_2400c_row3_col1, #T_2400c_row3_col2, #T_2400c_row3_col3, #T_2400c_row3_col4, #T_2400c_row3_col5, #T_2400c_row3_col6, #T_2400c_row3_col7, #T_2400c_row4_col0, #T_2400c_row4_col1, #T_2400c_row4_col2, #T_2400c_row4_col3, #T_2400c_row4_col4, #T_2400c_row4_col5, #T_2400c_row4_col6, #T_2400c_row4_col7, #T_2400c_row5_col0, #T_2400c_row5_col1, #T_2400c_row5_col2, #T_2400c_row5_col3, #T_2400c_row5_col4, #T_2400c_row5_col5, #T_2400c_row5_col6, #T_2400c_row5_col7, #T_2400c_row6_col0, #T_2400c_row6_col1, #T_2400c_row6_col2, #T_2400c_row6_col3, #T_2400c_row6_col4, #T_2400c_row6_col5, #T_2400c_row6_col6, #T_2400c_row6_col7, #T_2400c_row7_col0, #T_2400c_row7_col1, #T_2400c_row7_col2, #T_2400c_row7_col3, #T_2400c_row7_col4, #T_2400c_row7_col5, #T_2400c_row7_col6, #T_2400c_row7_col7, #T_2400c_row8_col0, #T_2400c_row8_col1, #T_2400c_row8_col2, #T_2400c_row8_col3, #T_2400c_row8_col4, #T_2400c_row8_col5, #T_2400c_row8_col6, #T_2400c_row8_col7, #T_2400c_row9_col0, #T_2400c_row9_col1, #T_2400c_row9_col2, #T_2400c_row9_col3, #T_2400c_row9_col4, #T_2400c_row9_col5, #T_2400c_row9_col6, #T_2400c_row9_col7, #T_2400c_row10_col0, #T_2400c_row10_col1, #T_2400c_row10_col2, #T_2400c_row10_col3, #T_2400c_row10_col4, #T_2400c_row10_col5, #T_2400c_row10_col6, #T_2400c_row10_col7, #T_2400c_row11_col0, #T_2400c_row11_col1, #T_2400c_row11_col2, #T_2400c_row11_col3, #T_2400c_row11_col4, #T_2400c_row11_col5, #T_2400c_row11_col6, #T_2400c_row11_col7, #T_2400c_row12_col0, #T_2400c_row12_col1, #T_2400c_row12_col2, #T_2400c_row12_col3, #T_2400c_row12_col4, #T_2400c_row12_col5, #T_2400c_row12_col6, #T_2400c_row12_col7, #T_2400c_row13_col0, #T_2400c_row13_col1, #T_2400c_row13_col2, #T_2400c_row13_col3, #T_2400c_row13_col4, #T_2400c_row13_col5, #T_2400c_row13_col6, #T_2400c_row13_col7 {\n",
       "  text-align: left;\n",
       "}\n",
       "#T_2400c_row0_col1, #T_2400c_row0_col2, #T_2400c_row0_col3, #T_2400c_row0_col4, #T_2400c_row0_col5, #T_2400c_row0_col6, #T_2400c_row0_col7, #T_2400c_row2_col2 {\n",
       "  text-align: left;\n",
       "  background-color: yellow;\n",
       "}\n",
       "#T_2400c_row0_col8, #T_2400c_row1_col8, #T_2400c_row2_col8, #T_2400c_row3_col8, #T_2400c_row4_col8, #T_2400c_row5_col8, #T_2400c_row6_col8, #T_2400c_row8_col8, #T_2400c_row9_col8, #T_2400c_row10_col8, #T_2400c_row11_col8, #T_2400c_row12_col8, #T_2400c_row13_col8 {\n",
       "  text-align: left;\n",
       "  background-color: lightgrey;\n",
       "}\n",
       "#T_2400c_row7_col8 {\n",
       "  text-align: left;\n",
       "  background-color: yellow;\n",
       "  background-color: lightgrey;\n",
       "}\n",
       "</style>\n",
       "<table id=\"T_2400c_\">\n",
       "  <thead>\n",
       "    <tr>\n",
       "      <th class=\"blank level0\" >&nbsp;</th>\n",
       "      <th class=\"col_heading level0 col0\" >Model</th>\n",
       "      <th class=\"col_heading level0 col1\" >Accuracy</th>\n",
       "      <th class=\"col_heading level0 col2\" >AUC</th>\n",
       "      <th class=\"col_heading level0 col3\" >Recall</th>\n",
       "      <th class=\"col_heading level0 col4\" >Prec.</th>\n",
       "      <th class=\"col_heading level0 col5\" >F1</th>\n",
       "      <th class=\"col_heading level0 col6\" >Kappa</th>\n",
       "      <th class=\"col_heading level0 col7\" >MCC</th>\n",
       "      <th class=\"col_heading level0 col8\" >TT (Sec)</th>\n",
       "    </tr>\n",
       "  </thead>\n",
       "  <tbody>\n",
       "    <tr>\n",
       "      <th id=\"T_2400c_level0_row0\" class=\"row_heading level0 row0\" >rf</th>\n",
       "      <td id=\"T_2400c_row0_col0\" class=\"data row0 col0\" >Random Forest Classifier</td>\n",
       "      <td id=\"T_2400c_row0_col1\" class=\"data row0 col1\" >0.9981</td>\n",
       "      <td id=\"T_2400c_row0_col2\" class=\"data row0 col2\" >1.0000</td>\n",
       "      <td id=\"T_2400c_row0_col3\" class=\"data row0 col3\" >0.9981</td>\n",
       "      <td id=\"T_2400c_row0_col4\" class=\"data row0 col4\" >0.9983</td>\n",
       "      <td id=\"T_2400c_row0_col5\" class=\"data row0 col5\" >0.9981</td>\n",
       "      <td id=\"T_2400c_row0_col6\" class=\"data row0 col6\" >0.9980</td>\n",
       "      <td id=\"T_2400c_row0_col7\" class=\"data row0 col7\" >0.9980</td>\n",
       "      <td id=\"T_2400c_row0_col8\" class=\"data row0 col8\" >0.3470</td>\n",
       "    </tr>\n",
       "    <tr>\n",
       "      <th id=\"T_2400c_level0_row1\" class=\"row_heading level0 row1\" >nb</th>\n",
       "      <td id=\"T_2400c_row1_col0\" class=\"data row1 col0\" >Naive Bayes</td>\n",
       "      <td id=\"T_2400c_row1_col1\" class=\"data row1 col1\" >0.9952</td>\n",
       "      <td id=\"T_2400c_row1_col2\" class=\"data row1 col2\" >0.9999</td>\n",
       "      <td id=\"T_2400c_row1_col3\" class=\"data row1 col3\" >0.9952</td>\n",
       "      <td id=\"T_2400c_row1_col4\" class=\"data row1 col4\" >0.9958</td>\n",
       "      <td id=\"T_2400c_row1_col5\" class=\"data row1 col5\" >0.9952</td>\n",
       "      <td id=\"T_2400c_row1_col6\" class=\"data row1 col6\" >0.9949</td>\n",
       "      <td id=\"T_2400c_row1_col7\" class=\"data row1 col7\" >0.9949</td>\n",
       "      <td id=\"T_2400c_row1_col8\" class=\"data row1 col8\" >0.0180</td>\n",
       "    </tr>\n",
       "    <tr>\n",
       "      <th id=\"T_2400c_level0_row2\" class=\"row_heading level0 row2\" >et</th>\n",
       "      <td id=\"T_2400c_row2_col0\" class=\"data row2 col0\" >Extra Trees Classifier</td>\n",
       "      <td id=\"T_2400c_row2_col1\" class=\"data row2 col1\" >0.9943</td>\n",
       "      <td id=\"T_2400c_row2_col2\" class=\"data row2 col2\" >1.0000</td>\n",
       "      <td id=\"T_2400c_row2_col3\" class=\"data row2 col3\" >0.9943</td>\n",
       "      <td id=\"T_2400c_row2_col4\" class=\"data row2 col4\" >0.9948</td>\n",
       "      <td id=\"T_2400c_row2_col5\" class=\"data row2 col5\" >0.9943</td>\n",
       "      <td id=\"T_2400c_row2_col6\" class=\"data row2 col6\" >0.9939</td>\n",
       "      <td id=\"T_2400c_row2_col7\" class=\"data row2 col7\" >0.9939</td>\n",
       "      <td id=\"T_2400c_row2_col8\" class=\"data row2 col8\" >0.3150</td>\n",
       "    </tr>\n",
       "    <tr>\n",
       "      <th id=\"T_2400c_level0_row3\" class=\"row_heading level0 row3\" >qda</th>\n",
       "      <td id=\"T_2400c_row3_col0\" class=\"data row3 col0\" >Quadratic Discriminant Analysis</td>\n",
       "      <td id=\"T_2400c_row3_col1\" class=\"data row3 col1\" >0.9895</td>\n",
       "      <td id=\"T_2400c_row3_col2\" class=\"data row3 col2\" >0.9999</td>\n",
       "      <td id=\"T_2400c_row3_col3\" class=\"data row3 col3\" >0.9894</td>\n",
       "      <td id=\"T_2400c_row3_col4\" class=\"data row3 col4\" >0.9906</td>\n",
       "      <td id=\"T_2400c_row3_col5\" class=\"data row3 col5\" >0.9895</td>\n",
       "      <td id=\"T_2400c_row3_col6\" class=\"data row3 col6\" >0.9888</td>\n",
       "      <td id=\"T_2400c_row3_col7\" class=\"data row3 col7\" >0.9889</td>\n",
       "      <td id=\"T_2400c_row3_col8\" class=\"data row3 col8\" >0.0170</td>\n",
       "    </tr>\n",
       "    <tr>\n",
       "      <th id=\"T_2400c_level0_row4\" class=\"row_heading level0 row4\" >lightgbm</th>\n",
       "      <td id=\"T_2400c_row4_col0\" class=\"data row4 col0\" >Light Gradient Boosting Machine</td>\n",
       "      <td id=\"T_2400c_row4_col1\" class=\"data row4 col1\" >0.9895</td>\n",
       "      <td id=\"T_2400c_row4_col2\" class=\"data row4 col2\" >0.9999</td>\n",
       "      <td id=\"T_2400c_row4_col3\" class=\"data row4 col3\" >0.9896</td>\n",
       "      <td id=\"T_2400c_row4_col4\" class=\"data row4 col4\" >0.9908</td>\n",
       "      <td id=\"T_2400c_row4_col5\" class=\"data row4 col5\" >0.9896</td>\n",
       "      <td id=\"T_2400c_row4_col6\" class=\"data row4 col6\" >0.9888</td>\n",
       "      <td id=\"T_2400c_row4_col7\" class=\"data row4 col7\" >0.9889</td>\n",
       "      <td id=\"T_2400c_row4_col8\" class=\"data row4 col8\" >0.3870</td>\n",
       "    </tr>\n",
       "    <tr>\n",
       "      <th id=\"T_2400c_level0_row5\" class=\"row_heading level0 row5\" >gbc</th>\n",
       "      <td id=\"T_2400c_row5_col0\" class=\"data row5 col0\" >Gradient Boosting Classifier</td>\n",
       "      <td id=\"T_2400c_row5_col1\" class=\"data row5 col1\" >0.9886</td>\n",
       "      <td id=\"T_2400c_row5_col2\" class=\"data row5 col2\" >0.9999</td>\n",
       "      <td id=\"T_2400c_row5_col3\" class=\"data row5 col3\" >0.9887</td>\n",
       "      <td id=\"T_2400c_row5_col4\" class=\"data row5 col4\" >0.9907</td>\n",
       "      <td id=\"T_2400c_row5_col5\" class=\"data row5 col5\" >0.9885</td>\n",
       "      <td id=\"T_2400c_row5_col6\" class=\"data row5 col6\" >0.9877</td>\n",
       "      <td id=\"T_2400c_row5_col7\" class=\"data row5 col7\" >0.9879</td>\n",
       "      <td id=\"T_2400c_row5_col8\" class=\"data row5 col8\" >1.8060</td>\n",
       "    </tr>\n",
       "    <tr>\n",
       "      <th id=\"T_2400c_level0_row6\" class=\"row_heading level0 row6\" >dt</th>\n",
       "      <td id=\"T_2400c_row6_col0\" class=\"data row6 col0\" >Decision Tree Classifier</td>\n",
       "      <td id=\"T_2400c_row6_col1\" class=\"data row6 col1\" >0.9876</td>\n",
       "      <td id=\"T_2400c_row6_col2\" class=\"data row6 col2\" >0.9934</td>\n",
       "      <td id=\"T_2400c_row6_col3\" class=\"data row6 col3\" >0.9871</td>\n",
       "      <td id=\"T_2400c_row6_col4\" class=\"data row6 col4\" >0.9889</td>\n",
       "      <td id=\"T_2400c_row6_col5\" class=\"data row6 col5\" >0.9875</td>\n",
       "      <td id=\"T_2400c_row6_col6\" class=\"data row6 col6\" >0.9867</td>\n",
       "      <td id=\"T_2400c_row6_col7\" class=\"data row6 col7\" >0.9868</td>\n",
       "      <td id=\"T_2400c_row6_col8\" class=\"data row6 col8\" >0.0160</td>\n",
       "    </tr>\n",
       "    <tr>\n",
       "      <th id=\"T_2400c_level0_row7\" class=\"row_heading level0 row7\" >lda</th>\n",
       "      <td id=\"T_2400c_row7_col0\" class=\"data row7 col0\" >Linear Discriminant Analysis</td>\n",
       "      <td id=\"T_2400c_row7_col1\" class=\"data row7 col1\" >0.9838</td>\n",
       "      <td id=\"T_2400c_row7_col2\" class=\"data row7 col2\" >0.9998</td>\n",
       "      <td id=\"T_2400c_row7_col3\" class=\"data row7 col3\" >0.9833</td>\n",
       "      <td id=\"T_2400c_row7_col4\" class=\"data row7 col4\" >0.9863</td>\n",
       "      <td id=\"T_2400c_row7_col5\" class=\"data row7 col5\" >0.9836</td>\n",
       "      <td id=\"T_2400c_row7_col6\" class=\"data row7 col6\" >0.9826</td>\n",
       "      <td id=\"T_2400c_row7_col7\" class=\"data row7 col7\" >0.9828</td>\n",
       "      <td id=\"T_2400c_row7_col8\" class=\"data row7 col8\" >0.0120</td>\n",
       "    </tr>\n",
       "    <tr>\n",
       "      <th id=\"T_2400c_level0_row8\" class=\"row_heading level0 row8\" >knn</th>\n",
       "      <td id=\"T_2400c_row8_col0\" class=\"data row8 col0\" >K Neighbors Classifier</td>\n",
       "      <td id=\"T_2400c_row8_col1\" class=\"data row8 col1\" >0.9800</td>\n",
       "      <td id=\"T_2400c_row8_col2\" class=\"data row8 col2\" >0.9990</td>\n",
       "      <td id=\"T_2400c_row8_col3\" class=\"data row8 col3\" >0.9794</td>\n",
       "      <td id=\"T_2400c_row8_col4\" class=\"data row8 col4\" >0.9829</td>\n",
       "      <td id=\"T_2400c_row8_col5\" class=\"data row8 col5\" >0.9796</td>\n",
       "      <td id=\"T_2400c_row8_col6\" class=\"data row8 col6\" >0.9785</td>\n",
       "      <td id=\"T_2400c_row8_col7\" class=\"data row8 col7\" >0.9788</td>\n",
       "      <td id=\"T_2400c_row8_col8\" class=\"data row8 col8\" >0.0860</td>\n",
       "    </tr>\n",
       "    <tr>\n",
       "      <th id=\"T_2400c_level0_row9\" class=\"row_heading level0 row9\" >lr</th>\n",
       "      <td id=\"T_2400c_row9_col0\" class=\"data row9 col0\" >Logistic Regression</td>\n",
       "      <td id=\"T_2400c_row9_col1\" class=\"data row9 col1\" >0.9771</td>\n",
       "      <td id=\"T_2400c_row9_col2\" class=\"data row9 col2\" >0.9996</td>\n",
       "      <td id=\"T_2400c_row9_col3\" class=\"data row9 col3\" >0.9763</td>\n",
       "      <td id=\"T_2400c_row9_col4\" class=\"data row9 col4\" >0.9796</td>\n",
       "      <td id=\"T_2400c_row9_col5\" class=\"data row9 col5\" >0.9770</td>\n",
       "      <td id=\"T_2400c_row9_col6\" class=\"data row9 col6\" >0.9755</td>\n",
       "      <td id=\"T_2400c_row9_col7\" class=\"data row9 col7\" >0.9757</td>\n",
       "      <td id=\"T_2400c_row9_col8\" class=\"data row9 col8\" >1.8390</td>\n",
       "    </tr>\n",
       "    <tr>\n",
       "      <th id=\"T_2400c_level0_row10\" class=\"row_heading level0 row10\" >ridge</th>\n",
       "      <td id=\"T_2400c_row10_col0\" class=\"data row10 col0\" >Ridge Classifier</td>\n",
       "      <td id=\"T_2400c_row10_col1\" class=\"data row10 col1\" >0.7903</td>\n",
       "      <td id=\"T_2400c_row10_col2\" class=\"data row10 col2\" >0.0000</td>\n",
       "      <td id=\"T_2400c_row10_col3\" class=\"data row10 col3\" >0.7748</td>\n",
       "      <td id=\"T_2400c_row10_col4\" class=\"data row10 col4\" >0.7430</td>\n",
       "      <td id=\"T_2400c_row10_col5\" class=\"data row10 col5\" >0.7385</td>\n",
       "      <td id=\"T_2400c_row10_col6\" class=\"data row10 col6\" >0.7749</td>\n",
       "      <td id=\"T_2400c_row10_col7\" class=\"data row10 col7\" >0.7816</td>\n",
       "      <td id=\"T_2400c_row10_col8\" class=\"data row10 col8\" >0.0140</td>\n",
       "    </tr>\n",
       "    <tr>\n",
       "      <th id=\"T_2400c_level0_row11\" class=\"row_heading level0 row11\" >svm</th>\n",
       "      <td id=\"T_2400c_row11_col0\" class=\"data row11 col0\" >SVM - Linear Kernel</td>\n",
       "      <td id=\"T_2400c_row11_col1\" class=\"data row11 col1\" >0.7645</td>\n",
       "      <td id=\"T_2400c_row11_col2\" class=\"data row11 col2\" >0.0000</td>\n",
       "      <td id=\"T_2400c_row11_col3\" class=\"data row11 col3\" >0.7601</td>\n",
       "      <td id=\"T_2400c_row11_col4\" class=\"data row11 col4\" >0.7886</td>\n",
       "      <td id=\"T_2400c_row11_col5\" class=\"data row11 col5\" >0.7436</td>\n",
       "      <td id=\"T_2400c_row11_col6\" class=\"data row11 col6\" >0.7476</td>\n",
       "      <td id=\"T_2400c_row11_col7\" class=\"data row11 col7\" >0.7601</td>\n",
       "      <td id=\"T_2400c_row11_col8\" class=\"data row11 col8\" >0.0490</td>\n",
       "    </tr>\n",
       "    <tr>\n",
       "      <th id=\"T_2400c_level0_row12\" class=\"row_heading level0 row12\" >ada</th>\n",
       "      <td id=\"T_2400c_row12_col0\" class=\"data row12 col0\" >Ada Boost Classifier</td>\n",
       "      <td id=\"T_2400c_row12_col1\" class=\"data row12 col1\" >0.2088</td>\n",
       "      <td id=\"T_2400c_row12_col2\" class=\"data row12 col2\" >0.6806</td>\n",
       "      <td id=\"T_2400c_row12_col3\" class=\"data row12 col3\" >0.2000</td>\n",
       "      <td id=\"T_2400c_row12_col4\" class=\"data row12 col4\" >0.1089</td>\n",
       "      <td id=\"T_2400c_row12_col5\" class=\"data row12 col5\" >0.1255</td>\n",
       "      <td id=\"T_2400c_row12_col6\" class=\"data row12 col6\" >0.1466</td>\n",
       "      <td id=\"T_2400c_row12_col7\" class=\"data row12 col7\" >0.2424</td>\n",
       "      <td id=\"T_2400c_row12_col8\" class=\"data row12 col8\" >0.0940</td>\n",
       "    </tr>\n",
       "    <tr>\n",
       "      <th id=\"T_2400c_level0_row13\" class=\"row_heading level0 row13\" >dummy</th>\n",
       "      <td id=\"T_2400c_row13_col0\" class=\"data row13 col0\" >Dummy Classifier</td>\n",
       "      <td id=\"T_2400c_row13_col1\" class=\"data row13 col1\" >0.0744</td>\n",
       "      <td id=\"T_2400c_row13_col2\" class=\"data row13 col2\" >0.5000</td>\n",
       "      <td id=\"T_2400c_row13_col3\" class=\"data row13 col3\" >0.0667</td>\n",
       "      <td id=\"T_2400c_row13_col4\" class=\"data row13 col4\" >0.0055</td>\n",
       "      <td id=\"T_2400c_row13_col5\" class=\"data row13 col5\" >0.0103</td>\n",
       "      <td id=\"T_2400c_row13_col6\" class=\"data row13 col6\" >0.0000</td>\n",
       "      <td id=\"T_2400c_row13_col7\" class=\"data row13 col7\" >0.0000</td>\n",
       "      <td id=\"T_2400c_row13_col8\" class=\"data row13 col8\" >0.0150</td>\n",
       "    </tr>\n",
       "  </tbody>\n",
       "</table>\n"
      ],
      "text/plain": [
       "<pandas.io.formats.style.Styler at 0x260db789e08>"
      ]
     },
     "metadata": {},
     "output_type": "display_data"
    }
   ],
   "source": [
    "best_model = cp.compare_models()"
   ]
  },
  {
   "cell_type": "code",
   "execution_count": 21,
   "id": "fb5a388e",
   "metadata": {},
   "outputs": [
    {
     "data": {
      "text/plain": [
       "RandomForestClassifier(bootstrap=True, ccp_alpha=0.0, class_weight=None,\n",
       "                       criterion='gini', max_depth=None, max_features='auto',\n",
       "                       max_leaf_nodes=None, max_samples=None,\n",
       "                       min_impurity_decrease=0.0, min_impurity_split=None,\n",
       "                       min_samples_leaf=1, min_samples_split=2,\n",
       "                       min_weight_fraction_leaf=0.0, n_estimators=100,\n",
       "                       n_jobs=-1, oob_score=False, random_state=123, verbose=0,\n",
       "                       warm_start=False)"
      ]
     },
     "execution_count": 21,
     "metadata": {},
     "output_type": "execute_result"
    }
   ],
   "source": [
    "best_model"
   ]
  },
  {
   "cell_type": "code",
   "execution_count": 22,
   "id": "b5f645ec",
   "metadata": {},
   "outputs": [
    {
     "data": {
      "text/html": [
       "<style type=\"text/css\">\n",
       "#T_694a5_row10_col0, #T_694a5_row10_col1, #T_694a5_row10_col2, #T_694a5_row10_col3, #T_694a5_row10_col4, #T_694a5_row10_col5, #T_694a5_row10_col6 {\n",
       "  background: yellow;\n",
       "}\n",
       "</style>\n",
       "<table id=\"T_694a5_\">\n",
       "  <thead>\n",
       "    <tr>\n",
       "      <th class=\"blank level0\" >&nbsp;</th>\n",
       "      <th class=\"col_heading level0 col0\" >Accuracy</th>\n",
       "      <th class=\"col_heading level0 col1\" >AUC</th>\n",
       "      <th class=\"col_heading level0 col2\" >Recall</th>\n",
       "      <th class=\"col_heading level0 col3\" >Prec.</th>\n",
       "      <th class=\"col_heading level0 col4\" >F1</th>\n",
       "      <th class=\"col_heading level0 col5\" >Kappa</th>\n",
       "      <th class=\"col_heading level0 col6\" >MCC</th>\n",
       "    </tr>\n",
       "    <tr>\n",
       "      <th class=\"index_name level0\" >Fold</th>\n",
       "      <th class=\"blank col0\" >&nbsp;</th>\n",
       "      <th class=\"blank col1\" >&nbsp;</th>\n",
       "      <th class=\"blank col2\" >&nbsp;</th>\n",
       "      <th class=\"blank col3\" >&nbsp;</th>\n",
       "      <th class=\"blank col4\" >&nbsp;</th>\n",
       "      <th class=\"blank col5\" >&nbsp;</th>\n",
       "      <th class=\"blank col6\" >&nbsp;</th>\n",
       "    </tr>\n",
       "  </thead>\n",
       "  <tbody>\n",
       "    <tr>\n",
       "      <th id=\"T_694a5_level0_row0\" class=\"row_heading level0 row0\" >0</th>\n",
       "      <td id=\"T_694a5_row0_col0\" class=\"data row0 col0\" >0.9905</td>\n",
       "      <td id=\"T_694a5_row0_col1\" class=\"data row0 col1\" >1.0000</td>\n",
       "      <td id=\"T_694a5_row0_col2\" class=\"data row0 col2\" >0.9905</td>\n",
       "      <td id=\"T_694a5_row0_col3\" class=\"data row0 col3\" >0.9917</td>\n",
       "      <td id=\"T_694a5_row0_col4\" class=\"data row0 col4\" >0.9904</td>\n",
       "      <td id=\"T_694a5_row0_col5\" class=\"data row0 col5\" >0.9898</td>\n",
       "      <td id=\"T_694a5_row0_col6\" class=\"data row0 col6\" >0.9899</td>\n",
       "    </tr>\n",
       "    <tr>\n",
       "      <th id=\"T_694a5_level0_row1\" class=\"row_heading level0 row1\" >1</th>\n",
       "      <td id=\"T_694a5_row1_col0\" class=\"data row1 col0\" >1.0000</td>\n",
       "      <td id=\"T_694a5_row1_col1\" class=\"data row1 col1\" >1.0000</td>\n",
       "      <td id=\"T_694a5_row1_col2\" class=\"data row1 col2\" >1.0000</td>\n",
       "      <td id=\"T_694a5_row1_col3\" class=\"data row1 col3\" >1.0000</td>\n",
       "      <td id=\"T_694a5_row1_col4\" class=\"data row1 col4\" >1.0000</td>\n",
       "      <td id=\"T_694a5_row1_col5\" class=\"data row1 col5\" >1.0000</td>\n",
       "      <td id=\"T_694a5_row1_col6\" class=\"data row1 col6\" >1.0000</td>\n",
       "    </tr>\n",
       "    <tr>\n",
       "      <th id=\"T_694a5_level0_row2\" class=\"row_heading level0 row2\" >2</th>\n",
       "      <td id=\"T_694a5_row2_col0\" class=\"data row2 col0\" >0.9905</td>\n",
       "      <td id=\"T_694a5_row2_col1\" class=\"data row2 col1\" >0.9998</td>\n",
       "      <td id=\"T_694a5_row2_col2\" class=\"data row2 col2\" >0.9905</td>\n",
       "      <td id=\"T_694a5_row2_col3\" class=\"data row2 col3\" >0.9917</td>\n",
       "      <td id=\"T_694a5_row2_col4\" class=\"data row2 col4\" >0.9904</td>\n",
       "      <td id=\"T_694a5_row2_col5\" class=\"data row2 col5\" >0.9898</td>\n",
       "      <td id=\"T_694a5_row2_col6\" class=\"data row2 col6\" >0.9899</td>\n",
       "    </tr>\n",
       "    <tr>\n",
       "      <th id=\"T_694a5_level0_row3\" class=\"row_heading level0 row3\" >3</th>\n",
       "      <td id=\"T_694a5_row3_col0\" class=\"data row3 col0\" >1.0000</td>\n",
       "      <td id=\"T_694a5_row3_col1\" class=\"data row3 col1\" >1.0000</td>\n",
       "      <td id=\"T_694a5_row3_col2\" class=\"data row3 col2\" >1.0000</td>\n",
       "      <td id=\"T_694a5_row3_col3\" class=\"data row3 col3\" >1.0000</td>\n",
       "      <td id=\"T_694a5_row3_col4\" class=\"data row3 col4\" >1.0000</td>\n",
       "      <td id=\"T_694a5_row3_col5\" class=\"data row3 col5\" >1.0000</td>\n",
       "      <td id=\"T_694a5_row3_col6\" class=\"data row3 col6\" >1.0000</td>\n",
       "    </tr>\n",
       "    <tr>\n",
       "      <th id=\"T_694a5_level0_row4\" class=\"row_heading level0 row4\" >4</th>\n",
       "      <td id=\"T_694a5_row4_col0\" class=\"data row4 col0\" >1.0000</td>\n",
       "      <td id=\"T_694a5_row4_col1\" class=\"data row4 col1\" >1.0000</td>\n",
       "      <td id=\"T_694a5_row4_col2\" class=\"data row4 col2\" >1.0000</td>\n",
       "      <td id=\"T_694a5_row4_col3\" class=\"data row4 col3\" >1.0000</td>\n",
       "      <td id=\"T_694a5_row4_col4\" class=\"data row4 col4\" >1.0000</td>\n",
       "      <td id=\"T_694a5_row4_col5\" class=\"data row4 col5\" >1.0000</td>\n",
       "      <td id=\"T_694a5_row4_col6\" class=\"data row4 col6\" >1.0000</td>\n",
       "    </tr>\n",
       "    <tr>\n",
       "      <th id=\"T_694a5_level0_row5\" class=\"row_heading level0 row5\" >5</th>\n",
       "      <td id=\"T_694a5_row5_col0\" class=\"data row5 col0\" >1.0000</td>\n",
       "      <td id=\"T_694a5_row5_col1\" class=\"data row5 col1\" >1.0000</td>\n",
       "      <td id=\"T_694a5_row5_col2\" class=\"data row5 col2\" >1.0000</td>\n",
       "      <td id=\"T_694a5_row5_col3\" class=\"data row5 col3\" >1.0000</td>\n",
       "      <td id=\"T_694a5_row5_col4\" class=\"data row5 col4\" >1.0000</td>\n",
       "      <td id=\"T_694a5_row5_col5\" class=\"data row5 col5\" >1.0000</td>\n",
       "      <td id=\"T_694a5_row5_col6\" class=\"data row5 col6\" >1.0000</td>\n",
       "    </tr>\n",
       "    <tr>\n",
       "      <th id=\"T_694a5_level0_row6\" class=\"row_heading level0 row6\" >6</th>\n",
       "      <td id=\"T_694a5_row6_col0\" class=\"data row6 col0\" >1.0000</td>\n",
       "      <td id=\"T_694a5_row6_col1\" class=\"data row6 col1\" >1.0000</td>\n",
       "      <td id=\"T_694a5_row6_col2\" class=\"data row6 col2\" >1.0000</td>\n",
       "      <td id=\"T_694a5_row6_col3\" class=\"data row6 col3\" >1.0000</td>\n",
       "      <td id=\"T_694a5_row6_col4\" class=\"data row6 col4\" >1.0000</td>\n",
       "      <td id=\"T_694a5_row6_col5\" class=\"data row6 col5\" >1.0000</td>\n",
       "      <td id=\"T_694a5_row6_col6\" class=\"data row6 col6\" >1.0000</td>\n",
       "    </tr>\n",
       "    <tr>\n",
       "      <th id=\"T_694a5_level0_row7\" class=\"row_heading level0 row7\" >7</th>\n",
       "      <td id=\"T_694a5_row7_col0\" class=\"data row7 col0\" >1.0000</td>\n",
       "      <td id=\"T_694a5_row7_col1\" class=\"data row7 col1\" >1.0000</td>\n",
       "      <td id=\"T_694a5_row7_col2\" class=\"data row7 col2\" >1.0000</td>\n",
       "      <td id=\"T_694a5_row7_col3\" class=\"data row7 col3\" >1.0000</td>\n",
       "      <td id=\"T_694a5_row7_col4\" class=\"data row7 col4\" >1.0000</td>\n",
       "      <td id=\"T_694a5_row7_col5\" class=\"data row7 col5\" >1.0000</td>\n",
       "      <td id=\"T_694a5_row7_col6\" class=\"data row7 col6\" >1.0000</td>\n",
       "    </tr>\n",
       "    <tr>\n",
       "      <th id=\"T_694a5_level0_row8\" class=\"row_heading level0 row8\" >8</th>\n",
       "      <td id=\"T_694a5_row8_col0\" class=\"data row8 col0\" >1.0000</td>\n",
       "      <td id=\"T_694a5_row8_col1\" class=\"data row8 col1\" >0.9999</td>\n",
       "      <td id=\"T_694a5_row8_col2\" class=\"data row8 col2\" >1.0000</td>\n",
       "      <td id=\"T_694a5_row8_col3\" class=\"data row8 col3\" >1.0000</td>\n",
       "      <td id=\"T_694a5_row8_col4\" class=\"data row8 col4\" >1.0000</td>\n",
       "      <td id=\"T_694a5_row8_col5\" class=\"data row8 col5\" >1.0000</td>\n",
       "      <td id=\"T_694a5_row8_col6\" class=\"data row8 col6\" >1.0000</td>\n",
       "    </tr>\n",
       "    <tr>\n",
       "      <th id=\"T_694a5_level0_row9\" class=\"row_heading level0 row9\" >9</th>\n",
       "      <td id=\"T_694a5_row9_col0\" class=\"data row9 col0\" >1.0000</td>\n",
       "      <td id=\"T_694a5_row9_col1\" class=\"data row9 col1\" >1.0000</td>\n",
       "      <td id=\"T_694a5_row9_col2\" class=\"data row9 col2\" >1.0000</td>\n",
       "      <td id=\"T_694a5_row9_col3\" class=\"data row9 col3\" >1.0000</td>\n",
       "      <td id=\"T_694a5_row9_col4\" class=\"data row9 col4\" >1.0000</td>\n",
       "      <td id=\"T_694a5_row9_col5\" class=\"data row9 col5\" >1.0000</td>\n",
       "      <td id=\"T_694a5_row9_col6\" class=\"data row9 col6\" >1.0000</td>\n",
       "    </tr>\n",
       "    <tr>\n",
       "      <th id=\"T_694a5_level0_row10\" class=\"row_heading level0 row10\" >Mean</th>\n",
       "      <td id=\"T_694a5_row10_col0\" class=\"data row10 col0\" >0.9981</td>\n",
       "      <td id=\"T_694a5_row10_col1\" class=\"data row10 col1\" >1.0000</td>\n",
       "      <td id=\"T_694a5_row10_col2\" class=\"data row10 col2\" >0.9981</td>\n",
       "      <td id=\"T_694a5_row10_col3\" class=\"data row10 col3\" >0.9983</td>\n",
       "      <td id=\"T_694a5_row10_col4\" class=\"data row10 col4\" >0.9981</td>\n",
       "      <td id=\"T_694a5_row10_col5\" class=\"data row10 col5\" >0.9980</td>\n",
       "      <td id=\"T_694a5_row10_col6\" class=\"data row10 col6\" >0.9980</td>\n",
       "    </tr>\n",
       "    <tr>\n",
       "      <th id=\"T_694a5_level0_row11\" class=\"row_heading level0 row11\" >Std</th>\n",
       "      <td id=\"T_694a5_row11_col0\" class=\"data row11 col0\" >0.0038</td>\n",
       "      <td id=\"T_694a5_row11_col1\" class=\"data row11 col1\" >0.0001</td>\n",
       "      <td id=\"T_694a5_row11_col2\" class=\"data row11 col2\" >0.0038</td>\n",
       "      <td id=\"T_694a5_row11_col3\" class=\"data row11 col3\" >0.0033</td>\n",
       "      <td id=\"T_694a5_row11_col4\" class=\"data row11 col4\" >0.0038</td>\n",
       "      <td id=\"T_694a5_row11_col5\" class=\"data row11 col5\" >0.0041</td>\n",
       "      <td id=\"T_694a5_row11_col6\" class=\"data row11 col6\" >0.0040</td>\n",
       "    </tr>\n",
       "  </tbody>\n",
       "</table>\n"
      ],
      "text/plain": [
       "<pandas.io.formats.style.Styler at 0x260dbd64b48>"
      ]
     },
     "metadata": {},
     "output_type": "display_data"
    }
   ],
   "source": [
    "model  = cp.create_model(best_model)"
   ]
  },
  {
   "cell_type": "code",
   "execution_count": 23,
   "id": "98a41b65",
   "metadata": {},
   "outputs": [
    {
     "data": {
      "text/plain": [
       "RandomForestClassifier(bootstrap=True, ccp_alpha=0.0, class_weight=None,\n",
       "                       criterion='gini', max_depth=None, max_features='auto',\n",
       "                       max_leaf_nodes=None, max_samples=None,\n",
       "                       min_impurity_decrease=0.0, min_impurity_split=None,\n",
       "                       min_samples_leaf=1, min_samples_split=2,\n",
       "                       min_weight_fraction_leaf=0.0, n_estimators=100,\n",
       "                       n_jobs=-1, oob_score=False, random_state=123, verbose=0,\n",
       "                       warm_start=False)"
      ]
     },
     "execution_count": 23,
     "metadata": {},
     "output_type": "execute_result"
    }
   ],
   "source": [
    "model"
   ]
  },
  {
   "cell_type": "code",
   "execution_count": 24,
   "id": "f96f2cbc",
   "metadata": {},
   "outputs": [
    {
     "data": {
      "text/html": [
       "<style type=\"text/css\">\n",
       "#T_6083d_row10_col0, #T_6083d_row10_col1, #T_6083d_row10_col2, #T_6083d_row10_col3, #T_6083d_row10_col4, #T_6083d_row10_col5, #T_6083d_row10_col6 {\n",
       "  background: yellow;\n",
       "}\n",
       "</style>\n",
       "<table id=\"T_6083d_\">\n",
       "  <thead>\n",
       "    <tr>\n",
       "      <th class=\"blank level0\" >&nbsp;</th>\n",
       "      <th class=\"col_heading level0 col0\" >Accuracy</th>\n",
       "      <th class=\"col_heading level0 col1\" >AUC</th>\n",
       "      <th class=\"col_heading level0 col2\" >Recall</th>\n",
       "      <th class=\"col_heading level0 col3\" >Prec.</th>\n",
       "      <th class=\"col_heading level0 col4\" >F1</th>\n",
       "      <th class=\"col_heading level0 col5\" >Kappa</th>\n",
       "      <th class=\"col_heading level0 col6\" >MCC</th>\n",
       "    </tr>\n",
       "    <tr>\n",
       "      <th class=\"index_name level0\" >Fold</th>\n",
       "      <th class=\"blank col0\" >&nbsp;</th>\n",
       "      <th class=\"blank col1\" >&nbsp;</th>\n",
       "      <th class=\"blank col2\" >&nbsp;</th>\n",
       "      <th class=\"blank col3\" >&nbsp;</th>\n",
       "      <th class=\"blank col4\" >&nbsp;</th>\n",
       "      <th class=\"blank col5\" >&nbsp;</th>\n",
       "      <th class=\"blank col6\" >&nbsp;</th>\n",
       "    </tr>\n",
       "  </thead>\n",
       "  <tbody>\n",
       "    <tr>\n",
       "      <th id=\"T_6083d_level0_row0\" class=\"row_heading level0 row0\" >0</th>\n",
       "      <td id=\"T_6083d_row0_col0\" class=\"data row0 col0\" >0.9810</td>\n",
       "      <td id=\"T_6083d_row0_col1\" class=\"data row0 col1\" >1.0000</td>\n",
       "      <td id=\"T_6083d_row0_col2\" class=\"data row0 col2\" >0.9810</td>\n",
       "      <td id=\"T_6083d_row0_col3\" class=\"data row0 col3\" >0.9852</td>\n",
       "      <td id=\"T_6083d_row0_col4\" class=\"data row0 col4\" >0.9806</td>\n",
       "      <td id=\"T_6083d_row0_col5\" class=\"data row0 col5\" >0.9796</td>\n",
       "      <td id=\"T_6083d_row0_col6\" class=\"data row0 col6\" >0.9800</td>\n",
       "    </tr>\n",
       "    <tr>\n",
       "      <th id=\"T_6083d_level0_row1\" class=\"row_heading level0 row1\" >1</th>\n",
       "      <td id=\"T_6083d_row1_col0\" class=\"data row1 col0\" >1.0000</td>\n",
       "      <td id=\"T_6083d_row1_col1\" class=\"data row1 col1\" >1.0000</td>\n",
       "      <td id=\"T_6083d_row1_col2\" class=\"data row1 col2\" >1.0000</td>\n",
       "      <td id=\"T_6083d_row1_col3\" class=\"data row1 col3\" >1.0000</td>\n",
       "      <td id=\"T_6083d_row1_col4\" class=\"data row1 col4\" >1.0000</td>\n",
       "      <td id=\"T_6083d_row1_col5\" class=\"data row1 col5\" >1.0000</td>\n",
       "      <td id=\"T_6083d_row1_col6\" class=\"data row1 col6\" >1.0000</td>\n",
       "    </tr>\n",
       "    <tr>\n",
       "      <th id=\"T_6083d_level0_row2\" class=\"row_heading level0 row2\" >2</th>\n",
       "      <td id=\"T_6083d_row2_col0\" class=\"data row2 col0\" >0.9905</td>\n",
       "      <td id=\"T_6083d_row2_col1\" class=\"data row2 col1\" >0.9998</td>\n",
       "      <td id=\"T_6083d_row2_col2\" class=\"data row2 col2\" >0.9905</td>\n",
       "      <td id=\"T_6083d_row2_col3\" class=\"data row2 col3\" >0.9917</td>\n",
       "      <td id=\"T_6083d_row2_col4\" class=\"data row2 col4\" >0.9904</td>\n",
       "      <td id=\"T_6083d_row2_col5\" class=\"data row2 col5\" >0.9898</td>\n",
       "      <td id=\"T_6083d_row2_col6\" class=\"data row2 col6\" >0.9899</td>\n",
       "    </tr>\n",
       "    <tr>\n",
       "      <th id=\"T_6083d_level0_row3\" class=\"row_heading level0 row3\" >3</th>\n",
       "      <td id=\"T_6083d_row3_col0\" class=\"data row3 col0\" >1.0000</td>\n",
       "      <td id=\"T_6083d_row3_col1\" class=\"data row3 col1\" >1.0000</td>\n",
       "      <td id=\"T_6083d_row3_col2\" class=\"data row3 col2\" >1.0000</td>\n",
       "      <td id=\"T_6083d_row3_col3\" class=\"data row3 col3\" >1.0000</td>\n",
       "      <td id=\"T_6083d_row3_col4\" class=\"data row3 col4\" >1.0000</td>\n",
       "      <td id=\"T_6083d_row3_col5\" class=\"data row3 col5\" >1.0000</td>\n",
       "      <td id=\"T_6083d_row3_col6\" class=\"data row3 col6\" >1.0000</td>\n",
       "    </tr>\n",
       "    <tr>\n",
       "      <th id=\"T_6083d_level0_row4\" class=\"row_heading level0 row4\" >4</th>\n",
       "      <td id=\"T_6083d_row4_col0\" class=\"data row4 col0\" >0.9905</td>\n",
       "      <td id=\"T_6083d_row4_col1\" class=\"data row4 col1\" >0.9999</td>\n",
       "      <td id=\"T_6083d_row4_col2\" class=\"data row4 col2\" >0.9905</td>\n",
       "      <td id=\"T_6083d_row4_col3\" class=\"data row4 col3\" >0.9917</td>\n",
       "      <td id=\"T_6083d_row4_col4\" class=\"data row4 col4\" >0.9904</td>\n",
       "      <td id=\"T_6083d_row4_col5\" class=\"data row4 col5\" >0.9898</td>\n",
       "      <td id=\"T_6083d_row4_col6\" class=\"data row4 col6\" >0.9899</td>\n",
       "    </tr>\n",
       "    <tr>\n",
       "      <th id=\"T_6083d_level0_row5\" class=\"row_heading level0 row5\" >5</th>\n",
       "      <td id=\"T_6083d_row5_col0\" class=\"data row5 col0\" >0.9905</td>\n",
       "      <td id=\"T_6083d_row5_col1\" class=\"data row5 col1\" >1.0000</td>\n",
       "      <td id=\"T_6083d_row5_col2\" class=\"data row5 col2\" >0.9905</td>\n",
       "      <td id=\"T_6083d_row5_col3\" class=\"data row5 col3\" >0.9917</td>\n",
       "      <td id=\"T_6083d_row5_col4\" class=\"data row5 col4\" >0.9904</td>\n",
       "      <td id=\"T_6083d_row5_col5\" class=\"data row5 col5\" >0.9898</td>\n",
       "      <td id=\"T_6083d_row5_col6\" class=\"data row5 col6\" >0.9899</td>\n",
       "    </tr>\n",
       "    <tr>\n",
       "      <th id=\"T_6083d_level0_row6\" class=\"row_heading level0 row6\" >6</th>\n",
       "      <td id=\"T_6083d_row6_col0\" class=\"data row6 col0\" >1.0000</td>\n",
       "      <td id=\"T_6083d_row6_col1\" class=\"data row6 col1\" >1.0000</td>\n",
       "      <td id=\"T_6083d_row6_col2\" class=\"data row6 col2\" >1.0000</td>\n",
       "      <td id=\"T_6083d_row6_col3\" class=\"data row6 col3\" >1.0000</td>\n",
       "      <td id=\"T_6083d_row6_col4\" class=\"data row6 col4\" >1.0000</td>\n",
       "      <td id=\"T_6083d_row6_col5\" class=\"data row6 col5\" >1.0000</td>\n",
       "      <td id=\"T_6083d_row6_col6\" class=\"data row6 col6\" >1.0000</td>\n",
       "    </tr>\n",
       "    <tr>\n",
       "      <th id=\"T_6083d_level0_row7\" class=\"row_heading level0 row7\" >7</th>\n",
       "      <td id=\"T_6083d_row7_col0\" class=\"data row7 col0\" >1.0000</td>\n",
       "      <td id=\"T_6083d_row7_col1\" class=\"data row7 col1\" >1.0000</td>\n",
       "      <td id=\"T_6083d_row7_col2\" class=\"data row7 col2\" >1.0000</td>\n",
       "      <td id=\"T_6083d_row7_col3\" class=\"data row7 col3\" >1.0000</td>\n",
       "      <td id=\"T_6083d_row7_col4\" class=\"data row7 col4\" >1.0000</td>\n",
       "      <td id=\"T_6083d_row7_col5\" class=\"data row7 col5\" >1.0000</td>\n",
       "      <td id=\"T_6083d_row7_col6\" class=\"data row7 col6\" >1.0000</td>\n",
       "    </tr>\n",
       "    <tr>\n",
       "      <th id=\"T_6083d_level0_row8\" class=\"row_heading level0 row8\" >8</th>\n",
       "      <td id=\"T_6083d_row8_col0\" class=\"data row8 col0\" >0.9619</td>\n",
       "      <td id=\"T_6083d_row8_col1\" class=\"data row8 col1\" >0.9996</td>\n",
       "      <td id=\"T_6083d_row8_col2\" class=\"data row8 col2\" >0.9619</td>\n",
       "      <td id=\"T_6083d_row8_col3\" class=\"data row8 col3\" >0.9728</td>\n",
       "      <td id=\"T_6083d_row8_col4\" class=\"data row8 col4\" >0.9609</td>\n",
       "      <td id=\"T_6083d_row8_col5\" class=\"data row8 col5\" >0.9592</td>\n",
       "      <td id=\"T_6083d_row8_col6\" class=\"data row8 col6\" >0.9601</td>\n",
       "    </tr>\n",
       "    <tr>\n",
       "      <th id=\"T_6083d_level0_row9\" class=\"row_heading level0 row9\" >9</th>\n",
       "      <td id=\"T_6083d_row9_col0\" class=\"data row9 col0\" >0.9808</td>\n",
       "      <td id=\"T_6083d_row9_col1\" class=\"data row9 col1\" >0.9998</td>\n",
       "      <td id=\"T_6083d_row9_col2\" class=\"data row9 col2\" >0.9810</td>\n",
       "      <td id=\"T_6083d_row9_col3\" class=\"data row9 col3\" >0.9856</td>\n",
       "      <td id=\"T_6083d_row9_col4\" class=\"data row9 col4\" >0.9805</td>\n",
       "      <td id=\"T_6083d_row9_col5\" class=\"data row9 col5\" >0.9794</td>\n",
       "      <td id=\"T_6083d_row9_col6\" class=\"data row9 col6\" >0.9798</td>\n",
       "    </tr>\n",
       "    <tr>\n",
       "      <th id=\"T_6083d_level0_row10\" class=\"row_heading level0 row10\" >Mean</th>\n",
       "      <td id=\"T_6083d_row10_col0\" class=\"data row10 col0\" >0.9895</td>\n",
       "      <td id=\"T_6083d_row10_col1\" class=\"data row10 col1\" >0.9999</td>\n",
       "      <td id=\"T_6083d_row10_col2\" class=\"data row10 col2\" >0.9895</td>\n",
       "      <td id=\"T_6083d_row10_col3\" class=\"data row10 col3\" >0.9919</td>\n",
       "      <td id=\"T_6083d_row10_col4\" class=\"data row10 col4\" >0.9893</td>\n",
       "      <td id=\"T_6083d_row10_col5\" class=\"data row10 col5\" >0.9887</td>\n",
       "      <td id=\"T_6083d_row10_col6\" class=\"data row10 col6\" >0.9889</td>\n",
       "    </tr>\n",
       "    <tr>\n",
       "      <th id=\"T_6083d_level0_row11\" class=\"row_heading level0 row11\" >Std</th>\n",
       "      <td id=\"T_6083d_row11_col0\" class=\"data row11 col0\" >0.0116</td>\n",
       "      <td id=\"T_6083d_row11_col1\" class=\"data row11 col1\" >0.0001</td>\n",
       "      <td id=\"T_6083d_row11_col2\" class=\"data row11 col2\" >0.0116</td>\n",
       "      <td id=\"T_6083d_row11_col3\" class=\"data row11 col3\" >0.0084</td>\n",
       "      <td id=\"T_6083d_row11_col4\" class=\"data row11 col4\" >0.0119</td>\n",
       "      <td id=\"T_6083d_row11_col5\" class=\"data row11 col5\" >0.0125</td>\n",
       "      <td id=\"T_6083d_row11_col6\" class=\"data row11 col6\" >0.0122</td>\n",
       "    </tr>\n",
       "  </tbody>\n",
       "</table>\n"
      ],
      "text/plain": [
       "<pandas.io.formats.style.Styler at 0x260db55ccc8>"
      ]
     },
     "metadata": {},
     "output_type": "display_data"
    }
   ],
   "source": [
    "tuned = cp.tune_model(model)"
   ]
  },
  {
   "cell_type": "code",
   "execution_count": 25,
   "id": "8db5b2f0",
   "metadata": {},
   "outputs": [
    {
     "data": {
      "text/plain": [
       "RandomForestClassifier(bootstrap=False, ccp_alpha=0.0,\n",
       "                       class_weight='balanced_subsample', criterion='gini',\n",
       "                       max_depth=6, max_features='log2', max_leaf_nodes=None,\n",
       "                       max_samples=None, min_impurity_decrease=0.001,\n",
       "                       min_impurity_split=None, min_samples_leaf=6,\n",
       "                       min_samples_split=9, min_weight_fraction_leaf=0.0,\n",
       "                       n_estimators=190, n_jobs=-1, oob_score=False,\n",
       "                       random_state=123, verbose=0, warm_start=False)"
      ]
     },
     "execution_count": 25,
     "metadata": {},
     "output_type": "execute_result"
    }
   ],
   "source": [
    "tuned"
   ]
  },
  {
   "cell_type": "code",
   "execution_count": 40,
   "id": "b48fa763",
   "metadata": {},
   "outputs": [
    {
     "name": "stderr",
     "output_type": "stream",
     "text": [
      "7it [00:00,  8.10it/s]\n"
     ]
    }
   ],
   "source": [
    "fr = cp.interpret_model(model,plot='pfi')"
   ]
  },
  {
   "cell_type": "code",
   "execution_count": 41,
   "id": "f2f29a22",
   "metadata": {},
   "outputs": [
    {
     "data": {
      "application/vnd.plotly.v1+json": {
       "config": {
        "plotlyServerURL": "https://plot.ly"
       },
       "data": [
        {
         "marker": {
          "color": [
           "#ff7f0e",
           "#ff7f0e",
           "#ff7f0e",
           "#ff7f0e",
           "#ff7f0e",
           "#ff7f0e",
           "#ff7f0e"
          ]
         },
         "orientation": "h",
         "type": "bar",
         "x": [
          0.006651884700665134,
          0.01552106430155209,
          0.04434589800443456,
          0.0687361419068736,
          0.09756097560975618,
          0.1707317073170731,
          0.21064301552106424
         ],
         "y": [
          "temperature",
          "ph",
          "P",
          "rainfall",
          "K",
          "N",
          "humidity"
         ]
        }
       ],
       "layout": {
        "template": {
         "data": {
          "bar": [
           {
            "error_x": {
             "color": "#2a3f5f"
            },
            "error_y": {
             "color": "#2a3f5f"
            },
            "marker": {
             "line": {
              "color": "#E5ECF6",
              "width": 0.5
             },
             "pattern": {
              "fillmode": "overlay",
              "size": 10,
              "solidity": 0.2
             }
            },
            "type": "bar"
           }
          ],
          "barpolar": [
           {
            "marker": {
             "line": {
              "color": "#E5ECF6",
              "width": 0.5
             },
             "pattern": {
              "fillmode": "overlay",
              "size": 10,
              "solidity": 0.2
             }
            },
            "type": "barpolar"
           }
          ],
          "carpet": [
           {
            "aaxis": {
             "endlinecolor": "#2a3f5f",
             "gridcolor": "white",
             "linecolor": "white",
             "minorgridcolor": "white",
             "startlinecolor": "#2a3f5f"
            },
            "baxis": {
             "endlinecolor": "#2a3f5f",
             "gridcolor": "white",
             "linecolor": "white",
             "minorgridcolor": "white",
             "startlinecolor": "#2a3f5f"
            },
            "type": "carpet"
           }
          ],
          "choropleth": [
           {
            "colorbar": {
             "outlinewidth": 0,
             "ticks": ""
            },
            "type": "choropleth"
           }
          ],
          "contour": [
           {
            "colorbar": {
             "outlinewidth": 0,
             "ticks": ""
            },
            "colorscale": [
             [
              0,
              "#0d0887"
             ],
             [
              0.1111111111111111,
              "#46039f"
             ],
             [
              0.2222222222222222,
              "#7201a8"
             ],
             [
              0.3333333333333333,
              "#9c179e"
             ],
             [
              0.4444444444444444,
              "#bd3786"
             ],
             [
              0.5555555555555556,
              "#d8576b"
             ],
             [
              0.6666666666666666,
              "#ed7953"
             ],
             [
              0.7777777777777778,
              "#fb9f3a"
             ],
             [
              0.8888888888888888,
              "#fdca26"
             ],
             [
              1,
              "#f0f921"
             ]
            ],
            "type": "contour"
           }
          ],
          "contourcarpet": [
           {
            "colorbar": {
             "outlinewidth": 0,
             "ticks": ""
            },
            "type": "contourcarpet"
           }
          ],
          "heatmap": [
           {
            "colorbar": {
             "outlinewidth": 0,
             "ticks": ""
            },
            "colorscale": [
             [
              0,
              "#0d0887"
             ],
             [
              0.1111111111111111,
              "#46039f"
             ],
             [
              0.2222222222222222,
              "#7201a8"
             ],
             [
              0.3333333333333333,
              "#9c179e"
             ],
             [
              0.4444444444444444,
              "#bd3786"
             ],
             [
              0.5555555555555556,
              "#d8576b"
             ],
             [
              0.6666666666666666,
              "#ed7953"
             ],
             [
              0.7777777777777778,
              "#fb9f3a"
             ],
             [
              0.8888888888888888,
              "#fdca26"
             ],
             [
              1,
              "#f0f921"
             ]
            ],
            "type": "heatmap"
           }
          ],
          "heatmapgl": [
           {
            "colorbar": {
             "outlinewidth": 0,
             "ticks": ""
            },
            "colorscale": [
             [
              0,
              "#0d0887"
             ],
             [
              0.1111111111111111,
              "#46039f"
             ],
             [
              0.2222222222222222,
              "#7201a8"
             ],
             [
              0.3333333333333333,
              "#9c179e"
             ],
             [
              0.4444444444444444,
              "#bd3786"
             ],
             [
              0.5555555555555556,
              "#d8576b"
             ],
             [
              0.6666666666666666,
              "#ed7953"
             ],
             [
              0.7777777777777778,
              "#fb9f3a"
             ],
             [
              0.8888888888888888,
              "#fdca26"
             ],
             [
              1,
              "#f0f921"
             ]
            ],
            "type": "heatmapgl"
           }
          ],
          "histogram": [
           {
            "marker": {
             "pattern": {
              "fillmode": "overlay",
              "size": 10,
              "solidity": 0.2
             }
            },
            "type": "histogram"
           }
          ],
          "histogram2d": [
           {
            "colorbar": {
             "outlinewidth": 0,
             "ticks": ""
            },
            "colorscale": [
             [
              0,
              "#0d0887"
             ],
             [
              0.1111111111111111,
              "#46039f"
             ],
             [
              0.2222222222222222,
              "#7201a8"
             ],
             [
              0.3333333333333333,
              "#9c179e"
             ],
             [
              0.4444444444444444,
              "#bd3786"
             ],
             [
              0.5555555555555556,
              "#d8576b"
             ],
             [
              0.6666666666666666,
              "#ed7953"
             ],
             [
              0.7777777777777778,
              "#fb9f3a"
             ],
             [
              0.8888888888888888,
              "#fdca26"
             ],
             [
              1,
              "#f0f921"
             ]
            ],
            "type": "histogram2d"
           }
          ],
          "histogram2dcontour": [
           {
            "colorbar": {
             "outlinewidth": 0,
             "ticks": ""
            },
            "colorscale": [
             [
              0,
              "#0d0887"
             ],
             [
              0.1111111111111111,
              "#46039f"
             ],
             [
              0.2222222222222222,
              "#7201a8"
             ],
             [
              0.3333333333333333,
              "#9c179e"
             ],
             [
              0.4444444444444444,
              "#bd3786"
             ],
             [
              0.5555555555555556,
              "#d8576b"
             ],
             [
              0.6666666666666666,
              "#ed7953"
             ],
             [
              0.7777777777777778,
              "#fb9f3a"
             ],
             [
              0.8888888888888888,
              "#fdca26"
             ],
             [
              1,
              "#f0f921"
             ]
            ],
            "type": "histogram2dcontour"
           }
          ],
          "mesh3d": [
           {
            "colorbar": {
             "outlinewidth": 0,
             "ticks": ""
            },
            "type": "mesh3d"
           }
          ],
          "parcoords": [
           {
            "line": {
             "colorbar": {
              "outlinewidth": 0,
              "ticks": ""
             }
            },
            "type": "parcoords"
           }
          ],
          "pie": [
           {
            "automargin": true,
            "type": "pie"
           }
          ],
          "scatter": [
           {
            "fillpattern": {
             "fillmode": "overlay",
             "size": 10,
             "solidity": 0.2
            },
            "type": "scatter"
           }
          ],
          "scatter3d": [
           {
            "line": {
             "colorbar": {
              "outlinewidth": 0,
              "ticks": ""
             }
            },
            "marker": {
             "colorbar": {
              "outlinewidth": 0,
              "ticks": ""
             }
            },
            "type": "scatter3d"
           }
          ],
          "scattercarpet": [
           {
            "marker": {
             "colorbar": {
              "outlinewidth": 0,
              "ticks": ""
             }
            },
            "type": "scattercarpet"
           }
          ],
          "scattergeo": [
           {
            "marker": {
             "colorbar": {
              "outlinewidth": 0,
              "ticks": ""
             }
            },
            "type": "scattergeo"
           }
          ],
          "scattergl": [
           {
            "marker": {
             "colorbar": {
              "outlinewidth": 0,
              "ticks": ""
             }
            },
            "type": "scattergl"
           }
          ],
          "scattermapbox": [
           {
            "marker": {
             "colorbar": {
              "outlinewidth": 0,
              "ticks": ""
             }
            },
            "type": "scattermapbox"
           }
          ],
          "scatterpolar": [
           {
            "marker": {
             "colorbar": {
              "outlinewidth": 0,
              "ticks": ""
             }
            },
            "type": "scatterpolar"
           }
          ],
          "scatterpolargl": [
           {
            "marker": {
             "colorbar": {
              "outlinewidth": 0,
              "ticks": ""
             }
            },
            "type": "scatterpolargl"
           }
          ],
          "scatterternary": [
           {
            "marker": {
             "colorbar": {
              "outlinewidth": 0,
              "ticks": ""
             }
            },
            "type": "scatterternary"
           }
          ],
          "surface": [
           {
            "colorbar": {
             "outlinewidth": 0,
             "ticks": ""
            },
            "colorscale": [
             [
              0,
              "#0d0887"
             ],
             [
              0.1111111111111111,
              "#46039f"
             ],
             [
              0.2222222222222222,
              "#7201a8"
             ],
             [
              0.3333333333333333,
              "#9c179e"
             ],
             [
              0.4444444444444444,
              "#bd3786"
             ],
             [
              0.5555555555555556,
              "#d8576b"
             ],
             [
              0.6666666666666666,
              "#ed7953"
             ],
             [
              0.7777777777777778,
              "#fb9f3a"
             ],
             [
              0.8888888888888888,
              "#fdca26"
             ],
             [
              1,
              "#f0f921"
             ]
            ],
            "type": "surface"
           }
          ],
          "table": [
           {
            "cells": {
             "fill": {
              "color": "#EBF0F8"
             },
             "line": {
              "color": "white"
             }
            },
            "header": {
             "fill": {
              "color": "#C8D4E3"
             },
             "line": {
              "color": "white"
             }
            },
            "type": "table"
           }
          ]
         },
         "layout": {
          "annotationdefaults": {
           "arrowcolor": "#2a3f5f",
           "arrowhead": 0,
           "arrowwidth": 1
          },
          "autotypenumbers": "strict",
          "coloraxis": {
           "colorbar": {
            "outlinewidth": 0,
            "ticks": ""
           }
          },
          "colorscale": {
           "diverging": [
            [
             0,
             "#8e0152"
            ],
            [
             0.1,
             "#c51b7d"
            ],
            [
             0.2,
             "#de77ae"
            ],
            [
             0.3,
             "#f1b6da"
            ],
            [
             0.4,
             "#fde0ef"
            ],
            [
             0.5,
             "#f7f7f7"
            ],
            [
             0.6,
             "#e6f5d0"
            ],
            [
             0.7,
             "#b8e186"
            ],
            [
             0.8,
             "#7fbc41"
            ],
            [
             0.9,
             "#4d9221"
            ],
            [
             1,
             "#276419"
            ]
           ],
           "sequential": [
            [
             0,
             "#0d0887"
            ],
            [
             0.1111111111111111,
             "#46039f"
            ],
            [
             0.2222222222222222,
             "#7201a8"
            ],
            [
             0.3333333333333333,
             "#9c179e"
            ],
            [
             0.4444444444444444,
             "#bd3786"
            ],
            [
             0.5555555555555556,
             "#d8576b"
            ],
            [
             0.6666666666666666,
             "#ed7953"
            ],
            [
             0.7777777777777778,
             "#fb9f3a"
            ],
            [
             0.8888888888888888,
             "#fdca26"
            ],
            [
             1,
             "#f0f921"
            ]
           ],
           "sequentialminus": [
            [
             0,
             "#0d0887"
            ],
            [
             0.1111111111111111,
             "#46039f"
            ],
            [
             0.2222222222222222,
             "#7201a8"
            ],
            [
             0.3333333333333333,
             "#9c179e"
            ],
            [
             0.4444444444444444,
             "#bd3786"
            ],
            [
             0.5555555555555556,
             "#d8576b"
            ],
            [
             0.6666666666666666,
             "#ed7953"
            ],
            [
             0.7777777777777778,
             "#fb9f3a"
            ],
            [
             0.8888888888888888,
             "#fdca26"
            ],
            [
             1,
             "#f0f921"
            ]
           ]
          },
          "colorway": [
           "#636efa",
           "#EF553B",
           "#00cc96",
           "#ab63fa",
           "#FFA15A",
           "#19d3f3",
           "#FF6692",
           "#B6E880",
           "#FF97FF",
           "#FECB52"
          ],
          "font": {
           "color": "#2a3f5f"
          },
          "geo": {
           "bgcolor": "white",
           "lakecolor": "white",
           "landcolor": "#E5ECF6",
           "showlakes": true,
           "showland": true,
           "subunitcolor": "white"
          },
          "hoverlabel": {
           "align": "left"
          },
          "hovermode": "closest",
          "mapbox": {
           "style": "light"
          },
          "paper_bgcolor": "white",
          "plot_bgcolor": "#E5ECF6",
          "polar": {
           "angularaxis": {
            "gridcolor": "white",
            "linecolor": "white",
            "ticks": ""
           },
           "bgcolor": "#E5ECF6",
           "radialaxis": {
            "gridcolor": "white",
            "linecolor": "white",
            "ticks": ""
           }
          },
          "scene": {
           "xaxis": {
            "backgroundcolor": "#E5ECF6",
            "gridcolor": "white",
            "gridwidth": 2,
            "linecolor": "white",
            "showbackground": true,
            "ticks": "",
            "zerolinecolor": "white"
           },
           "yaxis": {
            "backgroundcolor": "#E5ECF6",
            "gridcolor": "white",
            "gridwidth": 2,
            "linecolor": "white",
            "showbackground": true,
            "ticks": "",
            "zerolinecolor": "white"
           },
           "zaxis": {
            "backgroundcolor": "#E5ECF6",
            "gridcolor": "white",
            "gridwidth": 2,
            "linecolor": "white",
            "showbackground": true,
            "ticks": "",
            "zerolinecolor": "white"
           }
          },
          "shapedefaults": {
           "line": {
            "color": "#2a3f5f"
           }
          },
          "ternary": {
           "aaxis": {
            "gridcolor": "white",
            "linecolor": "white",
            "ticks": ""
           },
           "baxis": {
            "gridcolor": "white",
            "linecolor": "white",
            "ticks": ""
           },
           "bgcolor": "#E5ECF6",
           "caxis": {
            "gridcolor": "white",
            "linecolor": "white",
            "ticks": ""
           }
          },
          "title": {
           "x": 0.05
          },
          "xaxis": {
           "automargin": true,
           "gridcolor": "white",
           "linecolor": "white",
           "ticks": "",
           "title": {
            "standoff": 15
           },
           "zerolinecolor": "white",
           "zerolinewidth": 2
          },
          "yaxis": {
           "automargin": true,
           "gridcolor": "white",
           "linecolor": "white",
           "ticks": "",
           "title": {
            "standoff": 15
           },
           "zerolinecolor": "white",
           "zerolinewidth": 2
          }
         }
        },
        "title": {
         "text": ""
        },
        "xaxis": {
         "range": [
          -0.21064301552106424,
          0.21064301552106424
         ],
         "title": {
          "text": ""
         }
        },
        "yaxis": {
         "automargin": true,
         "dtick": 1,
         "title": {
          "text": ""
         }
        }
       }
      },
      "text/html": [
       "<div>                            <div id=\"62b517ee-9014-4ef1-81c1-227c1295e445\" class=\"plotly-graph-div\" style=\"height:525px; width:100%;\"></div>            <script type=\"text/javascript\">                require([\"plotly\"], function(Plotly) {                    window.PLOTLYENV=window.PLOTLYENV || {};                                    if (document.getElementById(\"62b517ee-9014-4ef1-81c1-227c1295e445\")) {                    Plotly.newPlot(                        \"62b517ee-9014-4ef1-81c1-227c1295e445\",                        [{\"marker\":{\"color\":[\"#ff7f0e\",\"#ff7f0e\",\"#ff7f0e\",\"#ff7f0e\",\"#ff7f0e\",\"#ff7f0e\",\"#ff7f0e\"]},\"orientation\":\"h\",\"x\":[0.006651884700665134,0.01552106430155209,0.04434589800443456,0.0687361419068736,0.09756097560975618,0.1707317073170731,0.21064301552106424],\"y\":[\"temperature\",\"ph\",\"P\",\"rainfall\",\"K\",\"N\",\"humidity\"],\"type\":\"bar\"}],                        {\"title\":{\"text\":\"\"},\"xaxis\":{\"range\":[-0.21064301552106424,0.21064301552106424],\"title\":{\"text\":\"\"}},\"yaxis\":{\"automargin\":true,\"dtick\":1,\"title\":{\"text\":\"\"}},\"template\":{\"data\":{\"histogram2dcontour\":[{\"type\":\"histogram2dcontour\",\"colorbar\":{\"outlinewidth\":0,\"ticks\":\"\"},\"colorscale\":[[0.0,\"#0d0887\"],[0.1111111111111111,\"#46039f\"],[0.2222222222222222,\"#7201a8\"],[0.3333333333333333,\"#9c179e\"],[0.4444444444444444,\"#bd3786\"],[0.5555555555555556,\"#d8576b\"],[0.6666666666666666,\"#ed7953\"],[0.7777777777777778,\"#fb9f3a\"],[0.8888888888888888,\"#fdca26\"],[1.0,\"#f0f921\"]]}],\"choropleth\":[{\"type\":\"choropleth\",\"colorbar\":{\"outlinewidth\":0,\"ticks\":\"\"}}],\"histogram2d\":[{\"type\":\"histogram2d\",\"colorbar\":{\"outlinewidth\":0,\"ticks\":\"\"},\"colorscale\":[[0.0,\"#0d0887\"],[0.1111111111111111,\"#46039f\"],[0.2222222222222222,\"#7201a8\"],[0.3333333333333333,\"#9c179e\"],[0.4444444444444444,\"#bd3786\"],[0.5555555555555556,\"#d8576b\"],[0.6666666666666666,\"#ed7953\"],[0.7777777777777778,\"#fb9f3a\"],[0.8888888888888888,\"#fdca26\"],[1.0,\"#f0f921\"]]}],\"heatmap\":[{\"type\":\"heatmap\",\"colorbar\":{\"outlinewidth\":0,\"ticks\":\"\"},\"colorscale\":[[0.0,\"#0d0887\"],[0.1111111111111111,\"#46039f\"],[0.2222222222222222,\"#7201a8\"],[0.3333333333333333,\"#9c179e\"],[0.4444444444444444,\"#bd3786\"],[0.5555555555555556,\"#d8576b\"],[0.6666666666666666,\"#ed7953\"],[0.7777777777777778,\"#fb9f3a\"],[0.8888888888888888,\"#fdca26\"],[1.0,\"#f0f921\"]]}],\"heatmapgl\":[{\"type\":\"heatmapgl\",\"colorbar\":{\"outlinewidth\":0,\"ticks\":\"\"},\"colorscale\":[[0.0,\"#0d0887\"],[0.1111111111111111,\"#46039f\"],[0.2222222222222222,\"#7201a8\"],[0.3333333333333333,\"#9c179e\"],[0.4444444444444444,\"#bd3786\"],[0.5555555555555556,\"#d8576b\"],[0.6666666666666666,\"#ed7953\"],[0.7777777777777778,\"#fb9f3a\"],[0.8888888888888888,\"#fdca26\"],[1.0,\"#f0f921\"]]}],\"contourcarpet\":[{\"type\":\"contourcarpet\",\"colorbar\":{\"outlinewidth\":0,\"ticks\":\"\"}}],\"contour\":[{\"type\":\"contour\",\"colorbar\":{\"outlinewidth\":0,\"ticks\":\"\"},\"colorscale\":[[0.0,\"#0d0887\"],[0.1111111111111111,\"#46039f\"],[0.2222222222222222,\"#7201a8\"],[0.3333333333333333,\"#9c179e\"],[0.4444444444444444,\"#bd3786\"],[0.5555555555555556,\"#d8576b\"],[0.6666666666666666,\"#ed7953\"],[0.7777777777777778,\"#fb9f3a\"],[0.8888888888888888,\"#fdca26\"],[1.0,\"#f0f921\"]]}],\"surface\":[{\"type\":\"surface\",\"colorbar\":{\"outlinewidth\":0,\"ticks\":\"\"},\"colorscale\":[[0.0,\"#0d0887\"],[0.1111111111111111,\"#46039f\"],[0.2222222222222222,\"#7201a8\"],[0.3333333333333333,\"#9c179e\"],[0.4444444444444444,\"#bd3786\"],[0.5555555555555556,\"#d8576b\"],[0.6666666666666666,\"#ed7953\"],[0.7777777777777778,\"#fb9f3a\"],[0.8888888888888888,\"#fdca26\"],[1.0,\"#f0f921\"]]}],\"mesh3d\":[{\"type\":\"mesh3d\",\"colorbar\":{\"outlinewidth\":0,\"ticks\":\"\"}}],\"scatter\":[{\"fillpattern\":{\"fillmode\":\"overlay\",\"size\":10,\"solidity\":0.2},\"type\":\"scatter\"}],\"parcoords\":[{\"type\":\"parcoords\",\"line\":{\"colorbar\":{\"outlinewidth\":0,\"ticks\":\"\"}}}],\"scatterpolargl\":[{\"type\":\"scatterpolargl\",\"marker\":{\"colorbar\":{\"outlinewidth\":0,\"ticks\":\"\"}}}],\"bar\":[{\"error_x\":{\"color\":\"#2a3f5f\"},\"error_y\":{\"color\":\"#2a3f5f\"},\"marker\":{\"line\":{\"color\":\"#E5ECF6\",\"width\":0.5},\"pattern\":{\"fillmode\":\"overlay\",\"size\":10,\"solidity\":0.2}},\"type\":\"bar\"}],\"scattergeo\":[{\"type\":\"scattergeo\",\"marker\":{\"colorbar\":{\"outlinewidth\":0,\"ticks\":\"\"}}}],\"scatterpolar\":[{\"type\":\"scatterpolar\",\"marker\":{\"colorbar\":{\"outlinewidth\":0,\"ticks\":\"\"}}}],\"histogram\":[{\"marker\":{\"pattern\":{\"fillmode\":\"overlay\",\"size\":10,\"solidity\":0.2}},\"type\":\"histogram\"}],\"scattergl\":[{\"type\":\"scattergl\",\"marker\":{\"colorbar\":{\"outlinewidth\":0,\"ticks\":\"\"}}}],\"scatter3d\":[{\"type\":\"scatter3d\",\"line\":{\"colorbar\":{\"outlinewidth\":0,\"ticks\":\"\"}},\"marker\":{\"colorbar\":{\"outlinewidth\":0,\"ticks\":\"\"}}}],\"scattermapbox\":[{\"type\":\"scattermapbox\",\"marker\":{\"colorbar\":{\"outlinewidth\":0,\"ticks\":\"\"}}}],\"scatterternary\":[{\"type\":\"scatterternary\",\"marker\":{\"colorbar\":{\"outlinewidth\":0,\"ticks\":\"\"}}}],\"scattercarpet\":[{\"type\":\"scattercarpet\",\"marker\":{\"colorbar\":{\"outlinewidth\":0,\"ticks\":\"\"}}}],\"carpet\":[{\"aaxis\":{\"endlinecolor\":\"#2a3f5f\",\"gridcolor\":\"white\",\"linecolor\":\"white\",\"minorgridcolor\":\"white\",\"startlinecolor\":\"#2a3f5f\"},\"baxis\":{\"endlinecolor\":\"#2a3f5f\",\"gridcolor\":\"white\",\"linecolor\":\"white\",\"minorgridcolor\":\"white\",\"startlinecolor\":\"#2a3f5f\"},\"type\":\"carpet\"}],\"table\":[{\"cells\":{\"fill\":{\"color\":\"#EBF0F8\"},\"line\":{\"color\":\"white\"}},\"header\":{\"fill\":{\"color\":\"#C8D4E3\"},\"line\":{\"color\":\"white\"}},\"type\":\"table\"}],\"barpolar\":[{\"marker\":{\"line\":{\"color\":\"#E5ECF6\",\"width\":0.5},\"pattern\":{\"fillmode\":\"overlay\",\"size\":10,\"solidity\":0.2}},\"type\":\"barpolar\"}],\"pie\":[{\"automargin\":true,\"type\":\"pie\"}]},\"layout\":{\"autotypenumbers\":\"strict\",\"colorway\":[\"#636efa\",\"#EF553B\",\"#00cc96\",\"#ab63fa\",\"#FFA15A\",\"#19d3f3\",\"#FF6692\",\"#B6E880\",\"#FF97FF\",\"#FECB52\"],\"font\":{\"color\":\"#2a3f5f\"},\"hovermode\":\"closest\",\"hoverlabel\":{\"align\":\"left\"},\"paper_bgcolor\":\"white\",\"plot_bgcolor\":\"#E5ECF6\",\"polar\":{\"bgcolor\":\"#E5ECF6\",\"angularaxis\":{\"gridcolor\":\"white\",\"linecolor\":\"white\",\"ticks\":\"\"},\"radialaxis\":{\"gridcolor\":\"white\",\"linecolor\":\"white\",\"ticks\":\"\"}},\"ternary\":{\"bgcolor\":\"#E5ECF6\",\"aaxis\":{\"gridcolor\":\"white\",\"linecolor\":\"white\",\"ticks\":\"\"},\"baxis\":{\"gridcolor\":\"white\",\"linecolor\":\"white\",\"ticks\":\"\"},\"caxis\":{\"gridcolor\":\"white\",\"linecolor\":\"white\",\"ticks\":\"\"}},\"coloraxis\":{\"colorbar\":{\"outlinewidth\":0,\"ticks\":\"\"}},\"colorscale\":{\"sequential\":[[0.0,\"#0d0887\"],[0.1111111111111111,\"#46039f\"],[0.2222222222222222,\"#7201a8\"],[0.3333333333333333,\"#9c179e\"],[0.4444444444444444,\"#bd3786\"],[0.5555555555555556,\"#d8576b\"],[0.6666666666666666,\"#ed7953\"],[0.7777777777777778,\"#fb9f3a\"],[0.8888888888888888,\"#fdca26\"],[1.0,\"#f0f921\"]],\"sequentialminus\":[[0.0,\"#0d0887\"],[0.1111111111111111,\"#46039f\"],[0.2222222222222222,\"#7201a8\"],[0.3333333333333333,\"#9c179e\"],[0.4444444444444444,\"#bd3786\"],[0.5555555555555556,\"#d8576b\"],[0.6666666666666666,\"#ed7953\"],[0.7777777777777778,\"#fb9f3a\"],[0.8888888888888888,\"#fdca26\"],[1.0,\"#f0f921\"]],\"diverging\":[[0,\"#8e0152\"],[0.1,\"#c51b7d\"],[0.2,\"#de77ae\"],[0.3,\"#f1b6da\"],[0.4,\"#fde0ef\"],[0.5,\"#f7f7f7\"],[0.6,\"#e6f5d0\"],[0.7,\"#b8e186\"],[0.8,\"#7fbc41\"],[0.9,\"#4d9221\"],[1,\"#276419\"]]},\"xaxis\":{\"gridcolor\":\"white\",\"linecolor\":\"white\",\"ticks\":\"\",\"title\":{\"standoff\":15},\"zerolinecolor\":\"white\",\"automargin\":true,\"zerolinewidth\":2},\"yaxis\":{\"gridcolor\":\"white\",\"linecolor\":\"white\",\"ticks\":\"\",\"title\":{\"standoff\":15},\"zerolinecolor\":\"white\",\"automargin\":true,\"zerolinewidth\":2},\"scene\":{\"xaxis\":{\"backgroundcolor\":\"#E5ECF6\",\"gridcolor\":\"white\",\"linecolor\":\"white\",\"showbackground\":true,\"ticks\":\"\",\"zerolinecolor\":\"white\",\"gridwidth\":2},\"yaxis\":{\"backgroundcolor\":\"#E5ECF6\",\"gridcolor\":\"white\",\"linecolor\":\"white\",\"showbackground\":true,\"ticks\":\"\",\"zerolinecolor\":\"white\",\"gridwidth\":2},\"zaxis\":{\"backgroundcolor\":\"#E5ECF6\",\"gridcolor\":\"white\",\"linecolor\":\"white\",\"showbackground\":true,\"ticks\":\"\",\"zerolinecolor\":\"white\",\"gridwidth\":2}},\"shapedefaults\":{\"line\":{\"color\":\"#2a3f5f\"}},\"annotationdefaults\":{\"arrowcolor\":\"#2a3f5f\",\"arrowhead\":0,\"arrowwidth\":1},\"geo\":{\"bgcolor\":\"white\",\"landcolor\":\"#E5ECF6\",\"subunitcolor\":\"white\",\"showland\":true,\"showlakes\":true,\"lakecolor\":\"white\"},\"title\":{\"x\":0.05},\"mapbox\":{\"style\":\"light\"}}}},                        {\"responsive\": true}                    ).then(function(){\n",
       "                            \n",
       "var gd = document.getElementById('62b517ee-9014-4ef1-81c1-227c1295e445');\n",
       "var x = new MutationObserver(function (mutations, observer) {{\n",
       "        var display = window.getComputedStyle(gd).display;\n",
       "        if (!display || display === 'none') {{\n",
       "            console.log([gd, 'removed!']);\n",
       "            Plotly.purge(gd);\n",
       "            observer.disconnect();\n",
       "        }}\n",
       "}});\n",
       "\n",
       "// Listen for the removal of the full notebook cells\n",
       "var notebookContainer = gd.closest('#notebook-container');\n",
       "if (notebookContainer) {{\n",
       "    x.observe(notebookContainer, {childList: true});\n",
       "}}\n",
       "\n",
       "// Listen for the clearing of the current output cell\n",
       "var outputEl = gd.closest('.output');\n",
       "if (outputEl) {{\n",
       "    x.observe(outputEl, {childList: true});\n",
       "}}\n",
       "\n",
       "                        })                };                });            </script>        </div>"
      ]
     },
     "metadata": {},
     "output_type": "display_data"
    }
   ],
   "source": [
    "fr"
   ]
  },
  {
   "cell_type": "code",
   "execution_count": 48,
   "id": "f7647b8b",
   "metadata": {},
   "outputs": [
    {
     "data": {
      "image/png": "[encoded data removed]",
      "text/plain": [
       "<Figure size 1600x1000 with 1 Axes>"
      ]
     },
     "metadata": {},
     "output_type": "display_data"
    }
   ],
   "source": [
    "graph = cp.plot_model(tuned,plot='learning')"
   ]
  },
  {
   "cell_type": "code",
   "execution_count": 49,
   "id": "9c4d7063",
   "metadata": {},
   "outputs": [
    {
     "data": {
      "image/png": "[encoded data removed]",
      "text/plain": [
       "<Figure size 1600x1000 with 1 Axes>"
      ]
     },
     "metadata": {},
     "output_type": "display_data"
    }
   ],
   "source": [
    "cp.plot_model(tuned,plot='error')"
   ]
  },
  {
   "cell_type": "code",
   "execution_count": 50,
   "id": "d13b70ab",
   "metadata": {},
   "outputs": [
    {
     "data": {
      "text/html": [
       "<style type=\"text/css\">\n",
       "</style>\n",
       "<table id=\"T_6db04_\">\n",
       "  <thead>\n",
       "    <tr>\n",
       "      <th class=\"blank level0\" >&nbsp;</th>\n",
       "      <th class=\"col_heading level0 col0\" >Model</th>\n",
       "      <th class=\"col_heading level0 col1\" >Accuracy</th>\n",
       "      <th class=\"col_heading level0 col2\" >AUC</th>\n",
       "      <th class=\"col_heading level0 col3\" >Recall</th>\n",
       "      <th class=\"col_heading level0 col4\" >Prec.</th>\n",
       "      <th class=\"col_heading level0 col5\" >F1</th>\n",
       "      <th class=\"col_heading level0 col6\" >Kappa</th>\n",
       "      <th class=\"col_heading level0 col7\" >MCC</th>\n",
       "    </tr>\n",
       "  </thead>\n",
       "  <tbody>\n",
       "    <tr>\n",
       "      <th id=\"T_6db04_level0_row0\" class=\"row_heading level0 row0\" >0</th>\n",
       "      <td id=\"T_6db04_row0_col0\" class=\"data row0 col0\" >Random Forest Classifier</td>\n",
       "      <td id=\"T_6db04_row0_col1\" class=\"data row0 col1\" >0.9867</td>\n",
       "      <td id=\"T_6db04_row0_col2\" class=\"data row0 col2\" >0.9997</td>\n",
       "      <td id=\"T_6db04_row0_col3\" class=\"data row0 col3\" >0.9870</td>\n",
       "      <td id=\"T_6db04_row0_col4\" class=\"data row0 col4\" >0.9882</td>\n",
       "      <td id=\"T_6db04_row0_col5\" class=\"data row0 col5\" >0.9866</td>\n",
       "      <td id=\"T_6db04_row0_col6\" class=\"data row0 col6\" >0.9857</td>\n",
       "      <td id=\"T_6db04_row0_col7\" class=\"data row0 col7\" >0.9859</td>\n",
       "    </tr>\n",
       "  </tbody>\n",
       "</table>\n"
      ],
      "text/plain": [
       "<pandas.io.formats.style.Styler at 0x260ac2e6148>"
      ]
     },
     "metadata": {},
     "output_type": "display_data"
    },
    {
     "data": {
      "text/html": [
       "<div>\n",
       "<style scoped>\n",
       "    .dataframe tbody tr th:only-of-type {\n",
       "        vertical-align: middle;\n",
       "    }\n",
       "\n",
       "    .dataframe tbody tr th {\n",
       "        vertical-align: top;\n",
       "    }\n",
       "\n",
       "    .dataframe thead th {\n",
       "        text-align: right;\n",
       "    }\n",
       "</style>\n",
       "<table border=\"1\" class=\"dataframe\">\n",
       "  <thead>\n",
       "    <tr style=\"text-align: right;\">\n",
       "      <th></th>\n",
       "      <th>N</th>\n",
       "      <th>P</th>\n",
       "      <th>K</th>\n",
       "      <th>temperature</th>\n",
       "      <th>humidity</th>\n",
       "      <th>ph</th>\n",
       "      <th>rainfall</th>\n",
       "      <th>label</th>\n",
       "      <th>Label</th>\n",
       "      <th>Score</th>\n",
       "    </tr>\n",
       "  </thead>\n",
       "  <tbody>\n",
       "    <tr>\n",
       "      <th>0</th>\n",
       "      <td>36.0</td>\n",
       "      <td>122.0</td>\n",
       "      <td>196.0</td>\n",
       "      <td>12.756796</td>\n",
       "      <td>81.624977</td>\n",
       "      <td>6.130311</td>\n",
       "      <td>66.778442</td>\n",
       "      <td>grapes</td>\n",
       "      <td>grapes</td>\n",
       "      <td>0.9698</td>\n",
       "    </tr>\n",
       "    <tr>\n",
       "      <th>1</th>\n",
       "      <td>98.0</td>\n",
       "      <td>40.0</td>\n",
       "      <td>30.0</td>\n",
       "      <td>24.407267</td>\n",
       "      <td>62.656925</td>\n",
       "      <td>6.410993</td>\n",
       "      <td>148.697739</td>\n",
       "      <td>coffee</td>\n",
       "      <td>coffee</td>\n",
       "      <td>0.7056</td>\n",
       "    </tr>\n",
       "    <tr>\n",
       "      <th>2</th>\n",
       "      <td>93.0</td>\n",
       "      <td>83.0</td>\n",
       "      <td>46.0</td>\n",
       "      <td>25.868248</td>\n",
       "      <td>78.524002</td>\n",
       "      <td>5.740555</td>\n",
       "      <td>116.301956</td>\n",
       "      <td>banana</td>\n",
       "      <td>banana</td>\n",
       "      <td>0.8905</td>\n",
       "    </tr>\n",
       "    <tr>\n",
       "      <th>3</th>\n",
       "      <td>44.0</td>\n",
       "      <td>55.0</td>\n",
       "      <td>49.0</td>\n",
       "      <td>38.419163</td>\n",
       "      <td>91.142204</td>\n",
       "      <td>6.751453</td>\n",
       "      <td>119.265388</td>\n",
       "      <td>papaya</td>\n",
       "      <td>papaya</td>\n",
       "      <td>0.8254</td>\n",
       "    </tr>\n",
       "    <tr>\n",
       "      <th>4</th>\n",
       "      <td>0.0</td>\n",
       "      <td>64.0</td>\n",
       "      <td>23.0</td>\n",
       "      <td>22.954582</td>\n",
       "      <td>24.035532</td>\n",
       "      <td>5.858618</td>\n",
       "      <td>107.731537</td>\n",
       "      <td>kidney beans</td>\n",
       "      <td>kidney beans</td>\n",
       "      <td>0.9288</td>\n",
       "    </tr>\n",
       "    <tr>\n",
       "      <th>...</th>\n",
       "      <td>...</td>\n",
       "      <td>...</td>\n",
       "      <td>...</td>\n",
       "      <td>...</td>\n",
       "      <td>...</td>\n",
       "      <td>...</td>\n",
       "      <td>...</td>\n",
       "      <td>...</td>\n",
       "      <td>...</td>\n",
       "      <td>...</td>\n",
       "    </tr>\n",
       "    <tr>\n",
       "      <th>446</th>\n",
       "      <td>26.0</td>\n",
       "      <td>72.0</td>\n",
       "      <td>17.0</td>\n",
       "      <td>34.898148</td>\n",
       "      <td>63.599487</td>\n",
       "      <td>6.972977</td>\n",
       "      <td>64.727974</td>\n",
       "      <td>black gram</td>\n",
       "      <td>black gram</td>\n",
       "      <td>0.8746</td>\n",
       "    </tr>\n",
       "    <tr>\n",
       "      <th>447</th>\n",
       "      <td>9.0</td>\n",
       "      <td>29.0</td>\n",
       "      <td>36.0</td>\n",
       "      <td>19.810694</td>\n",
       "      <td>88.929443</td>\n",
       "      <td>5.740338</td>\n",
       "      <td>102.860085</td>\n",
       "      <td>pomegranate</td>\n",
       "      <td>pomegranate</td>\n",
       "      <td>0.8222</td>\n",
       "    </tr>\n",
       "    <tr>\n",
       "      <th>448</th>\n",
       "      <td>34.0</td>\n",
       "      <td>55.0</td>\n",
       "      <td>45.0</td>\n",
       "      <td>31.701838</td>\n",
       "      <td>91.662323</td>\n",
       "      <td>6.953439</td>\n",
       "      <td>48.838104</td>\n",
       "      <td>papaya</td>\n",
       "      <td>papaya</td>\n",
       "      <td>0.6418</td>\n",
       "    </tr>\n",
       "    <tr>\n",
       "      <th>449</th>\n",
       "      <td>21.0</td>\n",
       "      <td>68.0</td>\n",
       "      <td>23.0</td>\n",
       "      <td>22.986670</td>\n",
       "      <td>20.579407</td>\n",
       "      <td>5.916780</td>\n",
       "      <td>143.858490</td>\n",
       "      <td>kidney beans</td>\n",
       "      <td>kidney beans</td>\n",
       "      <td>0.9761</td>\n",
       "    </tr>\n",
       "    <tr>\n",
       "      <th>450</th>\n",
       "      <td>17.0</td>\n",
       "      <td>122.0</td>\n",
       "      <td>200.0</td>\n",
       "      <td>23.640829</td>\n",
       "      <td>90.952576</td>\n",
       "      <td>5.560521</td>\n",
       "      <td>116.743134</td>\n",
       "      <td>apple</td>\n",
       "      <td>apple</td>\n",
       "      <td>0.9538</td>\n",
       "    </tr>\n",
       "  </tbody>\n",
       "</table>\n",
       "<p>451 rows × 10 columns</p>\n",
       "</div>"
      ],
      "text/plain": [
       "        N      P      K  temperature   humidity        ph    rainfall  \\\n",
       "0    36.0  122.0  196.0    12.756796  81.624977  6.130311   66.778442   \n",
       "1    98.0   40.0   30.0    24.407267  62.656925  6.410993  148.697739   \n",
       "2    93.0   83.0   46.0    25.868248  78.524002  5.740555  116.301956   \n",
       "3    44.0   55.0   49.0    38.419163  91.142204  6.751453  119.265388   \n",
       "4     0.0   64.0   23.0    22.954582  24.035532  5.858618  107.731537   \n",
       "..    ...    ...    ...          ...        ...       ...         ...   \n",
       "446  26.0   72.0   17.0    34.898148  63.599487  6.972977   64.727974   \n",
       "447   9.0   29.0   36.0    19.810694  88.929443  5.740338  102.860085   \n",
       "448  34.0   55.0   45.0    31.701838  91.662323  6.953439   48.838104   \n",
       "449  21.0   68.0   23.0    22.986670  20.579407  5.916780  143.858490   \n",
       "450  17.0  122.0  200.0    23.640829  90.952576  5.560521  116.743134   \n",
       "\n",
       "            label         Label   Score  \n",
       "0          grapes        grapes  0.9698  \n",
       "1          coffee        coffee  0.7056  \n",
       "2          banana        banana  0.8905  \n",
       "3          papaya        papaya  0.8254  \n",
       "4    kidney beans  kidney beans  0.9288  \n",
       "..            ...           ...     ...  \n",
       "446    black gram    black gram  0.8746  \n",
       "447   pomegranate   pomegranate  0.8222  \n",
       "448        papaya        papaya  0.6418  \n",
       "449  kidney beans  kidney beans  0.9761  \n",
       "450         apple         apple  0.9538  \n",
       "\n",
       "[451 rows x 10 columns]"
      ]
     },
     "execution_count": 50,
     "metadata": {},
     "output_type": "execute_result"
    }
   ],
   "source": [
    "cp.predict_model(tuned)"
   ]
  },
  {
   "cell_type": "code",
   "execution_count": 52,
   "id": "7b2c40b5",
   "metadata": {},
   "outputs": [],
   "source": [
    "final = cp.finalize_model(tuned)"
   ]
  },
  {
   "cell_type": "code",
   "execution_count": 57,
   "id": "dbf7e5cb",
   "metadata": {},
   "outputs": [
    {
     "name": "stdout",
     "output_type": "stream",
     "text": [
      "Transformation Pipeline and Model Successfully Saved\n"
     ]
    },
    {
     "data": {
      "text/plain": [
       "(Pipeline(memory=None,\n",
       "          steps=[('dtypes',\n",
       "                  DataTypes_Auto_infer(categorical_features=[],\n",
       "                                       display_types=True, features_todrop=[],\n",
       "                                       id_columns=[],\n",
       "                                       ml_usecase='classification',\n",
       "                                       numerical_features=[], target='label',\n",
       "                                       time_features=[])),\n",
       "                 ('imputer',\n",
       "                  Simple_Imputer(categorical_strategy='not_available',\n",
       "                                 fill_value_categorical=None,\n",
       "                                 fill_value_numerical=None,\n",
       "                                 numeric_strate...\n",
       "                  RandomForestClassifier(bootstrap=False, ccp_alpha=0.0,\n",
       "                                         class_weight='balanced_subsample',\n",
       "                                         criterion='gini', max_depth=6,\n",
       "                                         max_features='log2',\n",
       "                                         max_leaf_nodes=None, max_samples=None,\n",
       "                                         min_impurity_decrease=0.001,\n",
       "                                         min_impurity_split=None,\n",
       "                                         min_samples_leaf=6, min_samples_split=9,\n",
       "                                         min_weight_fraction_leaf=0.0,\n",
       "                                         n_estimators=190, n_jobs=-1,\n",
       "                                         oob_score=False, random_state=123,\n",
       "                                         verbose=0, warm_start=False)]],\n",
       "          verbose=False),\n",
       " '../model/crop-model-classification.pkl')"
      ]
     },
     "execution_count": 57,
     "metadata": {},
     "output_type": "execute_result"
    }
   ],
   "source": [
    "cp.save_model(final, \"../model/crop-model-classification\")"
   ]
  },
  {
   "cell_type": "code",
   "execution_count": 58,
   "id": "64c97736",
   "metadata": {},
   "outputs": [],
   "source": [
    "unknown_data = pd.DataFrame([{'N':70,'P':59,'K':43,'rainfall':202,'humidity':82,'ph':7,'temperature':20}])"
   ]
  },
  {
   "cell_type": "code",
   "execution_count": 59,
   "id": "21cdcf43",
   "metadata": {},
   "outputs": [
    {
     "name": "stdout",
     "output_type": "stream",
     "text": [
      "Transformation Pipeline and Model Successfully Loaded\n"
     ]
    }
   ],
   "source": [
    "saved_model = cp.load_model(\"../model/crop-model-classification\")"
   ]
  },
  {
   "cell_type": "code",
   "execution_count": 60,
   "id": "0c7a7577",
   "metadata": {},
   "outputs": [],
   "source": [
    "pred = cp.predict_model(saved_model,unknown_data)"
   ]
  },
  {
   "cell_type": "code",
   "execution_count": 61,
   "id": "ec6aceb0",
   "metadata": {},
   "outputs": [
    {
     "data": {
      "text/html": [
       "<div>\n",
       "<style scoped>\n",
       "    .dataframe tbody tr th:only-of-type {\n",
       "        vertical-align: middle;\n",
       "    }\n",
       "\n",
       "    .dataframe tbody tr th {\n",
       "        vertical-align: top;\n",
       "    }\n",
       "\n",
       "    .dataframe thead th {\n",
       "        text-align: right;\n",
       "    }\n",
       "</style>\n",
       "<table border=\"1\" class=\"dataframe\">\n",
       "  <thead>\n",
       "    <tr style=\"text-align: right;\">\n",
       "      <th></th>\n",
       "      <th>N</th>\n",
       "      <th>P</th>\n",
       "      <th>K</th>\n",
       "      <th>rainfall</th>\n",
       "      <th>humidity</th>\n",
       "      <th>ph</th>\n",
       "      <th>temperature</th>\n",
       "      <th>Label</th>\n",
       "      <th>Score</th>\n",
       "    </tr>\n",
       "  </thead>\n",
       "  <tbody>\n",
       "    <tr>\n",
       "      <th>0</th>\n",
       "      <td>70</td>\n",
       "      <td>59</td>\n",
       "      <td>43</td>\n",
       "      <td>202</td>\n",
       "      <td>82</td>\n",
       "      <td>7</td>\n",
       "      <td>20</td>\n",
       "      <td>rice</td>\n",
       "      <td>0.7545</td>\n",
       "    </tr>\n",
       "  </tbody>\n",
       "</table>\n",
       "</div>"
      ],
      "text/plain": [
       "    N   P   K  rainfall  humidity  ph  temperature Label   Score\n",
       "0  70  59  43       202        82   7           20  rice  0.7545"
      ]
     },
     "execution_count": 61,
     "metadata": {},
     "output_type": "execute_result"
    }
   ],
   "source": [
    "pred"
   ]
  }
 ],
 "metadata": {
  "kernelspec": {
   "display_name": "base",
   "language": "python",
   "name": "python3"
  },
  "language_info": {
   "codemirror_mode": {
    "name": "ipython",
    "version": 3
   },
   "file_extension": ".py",
   "mimetype": "text/x-python",
   "name": "python",
   "nbconvert_exporter": "python",
   "pygments_lexer": "ipython3",
   "version": "3.8.8 (default, Apr 13 2021, 15:08:03) [MSC v.1916 64 bit (AMD64)]"
  },
  "vscode": {
   "interpreter": {
    "hash": "a85f774807126dd9ffaaad57dfc1afdd3a211ad45708315c9f25daf4e7c72994"
   }
  }
 },
 "nbformat": 4,
 "nbformat_minor": 5
}
